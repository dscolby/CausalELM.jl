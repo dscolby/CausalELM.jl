{
 "cells": [
  {
   "cell_type": "code",
   "execution_count": 1,
   "metadata": {},
   "outputs": [],
   "source": [
    "using CausalELM\n",
    "using CSV\n",
    "using DataFrames\n",
    "using Random"
   ]
  },
  {
   "cell_type": "code",
   "execution_count": 2,
   "metadata": {},
   "outputs": [
    {
     "data": {
      "text/plain": [
       "(\u001b[1m9915×8 DataFrame\u001b[0m\n",
       "\u001b[1m  Row \u001b[0m│\u001b[1m age   \u001b[0m\u001b[1m inc   \u001b[0m\u001b[1m fsize \u001b[0m\u001b[1m marr  \u001b[0m\u001b[1m twoearn \u001b[0m\u001b[1m db    \u001b[0m\u001b[1m pira  \u001b[0m\u001b[1m hown  \u001b[0m\n",
       "      │\u001b[90m Int64 \u001b[0m\u001b[90m Int64 \u001b[0m\u001b[90m Int64 \u001b[0m\u001b[90m Int64 \u001b[0m\u001b[90m Int64   \u001b[0m\u001b[90m Int64 \u001b[0m\u001b[90m Int64 \u001b[0m\u001b[90m Int64 \u001b[0m\n",
       "──────┼──────────────────────────────────────────────────────────\n",
       "    1 │    31  28146      5      1        0      0      0      1\n",
       "    2 │    52  32634      5      0        0      0      0      1\n",
       "    3 │    50  52206      3      1        1      0      1      1\n",
       "    4 │    28  45252      4      1        1      0      0      0\n",
       "    5 │    42  33126      3      0        0      1      0      1\n",
       "    6 │    49  76860      6      1        1      1      0      1\n",
       "    7 │    40  57477      4      1        1      1      0      1\n",
       "    8 │    58  14637      1      0        0      0      0      0\n",
       "  ⋮   │   ⋮      ⋮      ⋮      ⋮       ⋮       ⋮      ⋮      ⋮\n",
       " 9909 │    28  31926      2      1        1      0      0      0\n",
       " 9910 │    49  64215      4      1        1      0      1      1\n",
       " 9911 │    34  13500      1      0        0      1      0      0\n",
       " 9912 │    33  39027      3      1        0      1      0      1\n",
       " 9913 │    34  62616      4      1        1      0      0      1\n",
       " 9914 │    41  56190      3      1        1      1      0      1\n",
       " 9915 │    28  26205      4      1        1      0      0      0\n",
       "\u001b[36m                                                9900 rows omitted\u001b[0m, [0, 0, 0, 0, 0, 0, 0, 0, 0, 0  …  1, 1, 1, 1, 1, 1, 1, 1, 1, 1], [-3300, 61010, 8849, -6013, -2375, -11000, -16901, 1000, 0, 6400  …  -1436, 4500, 34739, -750, 40000, 172, 836, 6150, 14499, -5400])"
      ]
     },
     "metadata": {},
     "output_type": "display_data"
    }
   ],
   "source": [
    "pension_df = CSV.read(\"pension.csv\", DataFrame)\n",
    "pension_df = pension_df[:, [10, 22, 13, 14, 15, 18, 20, 17, 24, 33]]\n",
    "covariates, treatment, outcome = pension_df[:, 3:end], pension_df[:, 2], pension_df[:, 1]"
   ]
  },
  {
   "cell_type": "code",
   "execution_count": 3,
   "metadata": {},
   "outputs": [
    {
     "data": {
      "text/html": [
       "<div><div style = \"float: left;\"><span>9915×8 DataFrame</span></div><div style = \"float: right;\"><span style = \"font-style: italic;\">9890 rows omitted</span></div><div style = \"clear: both;\"></div></div><div class = \"data-frame\" style = \"overflow-x: scroll;\"><table class = \"data-frame\" style = \"margin-bottom: 6px;\"><thead><tr class = \"header\"><th class = \"rowNumber\" style = \"font-weight: bold; text-align: right;\">Row</th><th style = \"text-align: left;\">age</th><th style = \"text-align: left;\">inc</th><th style = \"text-align: left;\">fsize</th><th style = \"text-align: left;\">marr</th><th style = \"text-align: left;\">twoearn</th><th style = \"text-align: left;\">db</th><th style = \"text-align: left;\">pira</th><th style = \"text-align: left;\">hown</th></tr><tr class = \"subheader headerLastRow\"><th class = \"rowNumber\" style = \"font-weight: bold; text-align: right;\"></th><th title = \"Float64\" style = \"text-align: left;\">Float64</th><th title = \"Float64\" style = \"text-align: left;\">Float64</th><th title = \"Float64\" style = \"text-align: left;\">Float64</th><th title = \"Float64\" style = \"text-align: left;\">Float64</th><th title = \"Int64\" style = \"text-align: left;\">Int64</th><th title = \"Int64\" style = \"text-align: left;\">Int64</th><th title = \"Int64\" style = \"text-align: left;\">Int64</th><th title = \"Int64\" style = \"text-align: left;\">Int64</th></tr></thead><tbody><tr><td class = \"rowNumber\" style = \"font-weight: bold; text-align: right;\">1</td><td style = \"text-align: right;\">0.153846</td><td style = \"text-align: right;\">0.125821</td><td style = \"text-align: right;\">0.333333</td><td style = \"text-align: right;\">1.0</td><td style = \"text-align: right;\">0</td><td style = \"text-align: right;\">0</td><td style = \"text-align: right;\">0</td><td style = \"text-align: right;\">1</td></tr><tr><td class = \"rowNumber\" style = \"font-weight: bold; text-align: right;\">2</td><td style = \"text-align: right;\">0.692308</td><td style = \"text-align: right;\">0.144156</td><td style = \"text-align: right;\">0.333333</td><td style = \"text-align: right;\">0.0</td><td style = \"text-align: right;\">0</td><td style = \"text-align: right;\">0</td><td style = \"text-align: right;\">0</td><td style = \"text-align: right;\">1</td></tr><tr><td class = \"rowNumber\" style = \"font-weight: bold; text-align: right;\">3</td><td style = \"text-align: right;\">0.641026</td><td style = \"text-align: right;\">0.224115</td><td style = \"text-align: right;\">0.166667</td><td style = \"text-align: right;\">1.0</td><td style = \"text-align: right;\">1</td><td style = \"text-align: right;\">0</td><td style = \"text-align: right;\">1</td><td style = \"text-align: right;\">1</td></tr><tr><td class = \"rowNumber\" style = \"font-weight: bold; text-align: right;\">4</td><td style = \"text-align: right;\">0.0769231</td><td style = \"text-align: right;\">0.195705</td><td style = \"text-align: right;\">0.25</td><td style = \"text-align: right;\">1.0</td><td style = \"text-align: right;\">1</td><td style = \"text-align: right;\">0</td><td style = \"text-align: right;\">0</td><td style = \"text-align: right;\">0</td></tr><tr><td class = \"rowNumber\" style = \"font-weight: bold; text-align: right;\">5</td><td style = \"text-align: right;\">0.435897</td><td style = \"text-align: right;\">0.146166</td><td style = \"text-align: right;\">0.166667</td><td style = \"text-align: right;\">0.0</td><td style = \"text-align: right;\">0</td><td style = \"text-align: right;\">1</td><td style = \"text-align: right;\">0</td><td style = \"text-align: right;\">1</td></tr><tr><td class = \"rowNumber\" style = \"font-weight: bold; text-align: right;\">6</td><td style = \"text-align: right;\">0.615385</td><td style = \"text-align: right;\">0.324836</td><td style = \"text-align: right;\">0.416667</td><td style = \"text-align: right;\">1.0</td><td style = \"text-align: right;\">1</td><td style = \"text-align: right;\">1</td><td style = \"text-align: right;\">0</td><td style = \"text-align: right;\">1</td></tr><tr><td class = \"rowNumber\" style = \"font-weight: bold; text-align: right;\">7</td><td style = \"text-align: right;\">0.384615</td><td style = \"text-align: right;\">0.245649</td><td style = \"text-align: right;\">0.25</td><td style = \"text-align: right;\">1.0</td><td style = \"text-align: right;\">1</td><td style = \"text-align: right;\">1</td><td style = \"text-align: right;\">0</td><td style = \"text-align: right;\">1</td></tr><tr><td class = \"rowNumber\" style = \"font-weight: bold; text-align: right;\">8</td><td style = \"text-align: right;\">0.846154</td><td style = \"text-align: right;\">0.0706319</td><td style = \"text-align: right;\">0.0</td><td style = \"text-align: right;\">0.0</td><td style = \"text-align: right;\">0</td><td style = \"text-align: right;\">0</td><td style = \"text-align: right;\">0</td><td style = \"text-align: right;\">0</td></tr><tr><td class = \"rowNumber\" style = \"font-weight: bold; text-align: right;\">9</td><td style = \"text-align: right;\">0.102564</td><td style = \"text-align: right;\">0.0376875</td><td style = \"text-align: right;\">0.25</td><td style = \"text-align: right;\">0.0</td><td style = \"text-align: right;\">0</td><td style = \"text-align: right;\">0</td><td style = \"text-align: right;\">0</td><td style = \"text-align: right;\">0</td></tr><tr><td class = \"rowNumber\" style = \"font-weight: bold; text-align: right;\">10</td><td style = \"text-align: right;\">0.641026</td><td style = \"text-align: right;\">0.0343906</td><td style = \"text-align: right;\">0.0</td><td style = \"text-align: right;\">0.0</td><td style = \"text-align: right;\">0</td><td style = \"text-align: right;\">0</td><td style = \"text-align: right;\">1</td><td style = \"text-align: right;\">0</td></tr><tr><td class = \"rowNumber\" style = \"font-weight: bold; text-align: right;\">11</td><td style = \"text-align: right;\">0.512821</td><td style = \"text-align: right;\">0.187482</td><td style = \"text-align: right;\">0.0</td><td style = \"text-align: right;\">0.0</td><td style = \"text-align: right;\">0</td><td style = \"text-align: right;\">1</td><td style = \"text-align: right;\">1</td><td style = \"text-align: right;\">1</td></tr><tr><td class = \"rowNumber\" style = \"font-weight: bold; text-align: right;\">12</td><td style = \"text-align: right;\">0.0</td><td style = \"text-align: right;\">0.175569</td><td style = \"text-align: right;\">0.166667</td><td style = \"text-align: right;\">1.0</td><td style = \"text-align: right;\">1</td><td style = \"text-align: right;\">0</td><td style = \"text-align: right;\">0</td><td style = \"text-align: right;\">0</td></tr><tr><td class = \"rowNumber\" style = \"font-weight: bold; text-align: right;\">13</td><td style = \"text-align: right;\">0.128205</td><td style = \"text-align: right;\">0.133395</td><td style = \"text-align: right;\">0.0833333</td><td style = \"text-align: right;\">1.0</td><td style = \"text-align: right;\">0</td><td style = \"text-align: right;\">0</td><td style = \"text-align: right;\">0</td><td style = \"text-align: right;\">0</td></tr><tr><td style = \"text-align: right;\">&vellip;</td><td style = \"text-align: right;\">&vellip;</td><td style = \"text-align: right;\">&vellip;</td><td style = \"text-align: right;\">&vellip;</td><td style = \"text-align: right;\">&vellip;</td><td style = \"text-align: right;\">&vellip;</td><td style = \"text-align: right;\">&vellip;</td><td style = \"text-align: right;\">&vellip;</td><td style = \"text-align: right;\">&vellip;</td></tr><tr><td class = \"rowNumber\" style = \"font-weight: bold; text-align: right;\">9904</td><td style = \"text-align: right;\">0.974359</td><td style = \"text-align: right;\">0.167333</td><td style = \"text-align: right;\">0.0</td><td style = \"text-align: right;\">0.0</td><td style = \"text-align: right;\">0</td><td style = \"text-align: right;\">0</td><td style = \"text-align: right;\">1</td><td style = \"text-align: right;\">1</td></tr><tr><td class = \"rowNumber\" style = \"font-weight: bold; text-align: right;\">9905</td><td style = \"text-align: right;\">0.179487</td><td style = \"text-align: right;\">0.213232</td><td style = \"text-align: right;\">0.166667</td><td style = \"text-align: right;\">1.0</td><td style = \"text-align: right;\">1</td><td style = \"text-align: right;\">0</td><td style = \"text-align: right;\">0</td><td style = \"text-align: right;\">1</td></tr><tr><td class = \"rowNumber\" style = \"font-weight: bold; text-align: right;\">9906</td><td style = \"text-align: right;\">0.0512821</td><td style = \"text-align: right;\">0.165323</td><td style = \"text-align: right;\">0.25</td><td style = \"text-align: right;\">1.0</td><td style = \"text-align: right;\">1</td><td style = \"text-align: right;\">0</td><td style = \"text-align: right;\">0</td><td style = \"text-align: right;\">0</td></tr><tr><td class = \"rowNumber\" style = \"font-weight: bold; text-align: right;\">9907</td><td style = \"text-align: right;\">0.435897</td><td style = \"text-align: right;\">0.078292</td><td style = \"text-align: right;\">0.0</td><td style = \"text-align: right;\">0.0</td><td style = \"text-align: right;\">0</td><td style = \"text-align: right;\">0</td><td style = \"text-align: right;\">0</td><td style = \"text-align: right;\">1</td></tr><tr><td class = \"rowNumber\" style = \"font-weight: bold; text-align: right;\">9908</td><td style = \"text-align: right;\">0.333333</td><td style = \"text-align: right;\">0.0804</td><td style = \"text-align: right;\">0.166667</td><td style = \"text-align: right;\">1.0</td><td style = \"text-align: right;\">0</td><td style = \"text-align: right;\">0</td><td style = \"text-align: right;\">0</td><td style = \"text-align: right;\">1</td></tr><tr><td class = \"rowNumber\" style = \"font-weight: bold; text-align: right;\">9909</td><td style = \"text-align: right;\">0.0769231</td><td style = \"text-align: right;\">0.141264</td><td style = \"text-align: right;\">0.0833333</td><td style = \"text-align: right;\">1.0</td><td style = \"text-align: right;\">1</td><td style = \"text-align: right;\">0</td><td style = \"text-align: right;\">0</td><td style = \"text-align: right;\">0</td></tr><tr><td class = \"rowNumber\" style = \"font-weight: bold; text-align: right;\">9910</td><td style = \"text-align: right;\">0.615385</td><td style = \"text-align: right;\">0.273176</td><td style = \"text-align: right;\">0.25</td><td style = \"text-align: right;\">1.0</td><td style = \"text-align: right;\">1</td><td style = \"text-align: right;\">0</td><td style = \"text-align: right;\">1</td><td style = \"text-align: right;\">1</td></tr><tr><td class = \"rowNumber\" style = \"font-weight: bold; text-align: right;\">9911</td><td style = \"text-align: right;\">0.230769</td><td style = \"text-align: right;\">0.0659869</td><td style = \"text-align: right;\">0.0</td><td style = \"text-align: right;\">0.0</td><td style = \"text-align: right;\">0</td><td style = \"text-align: right;\">1</td><td style = \"text-align: right;\">0</td><td style = \"text-align: right;\">0</td></tr><tr><td class = \"rowNumber\" style = \"font-weight: bold; text-align: right;\">9912</td><td style = \"text-align: right;\">0.205128</td><td style = \"text-align: right;\">0.170274</td><td style = \"text-align: right;\">0.166667</td><td style = \"text-align: right;\">1.0</td><td style = \"text-align: right;\">0</td><td style = \"text-align: right;\">1</td><td style = \"text-align: right;\">0</td><td style = \"text-align: right;\">1</td></tr><tr><td class = \"rowNumber\" style = \"font-weight: bold; text-align: right;\">9913</td><td style = \"text-align: right;\">0.230769</td><td style = \"text-align: right;\">0.266644</td><td style = \"text-align: right;\">0.25</td><td style = \"text-align: right;\">1.0</td><td style = \"text-align: right;\">1</td><td style = \"text-align: right;\">0</td><td style = \"text-align: right;\">0</td><td style = \"text-align: right;\">1</td></tr><tr><td class = \"rowNumber\" style = \"font-weight: bold; text-align: right;\">9914</td><td style = \"text-align: right;\">0.410256</td><td style = \"text-align: right;\">0.240391</td><td style = \"text-align: right;\">0.166667</td><td style = \"text-align: right;\">1.0</td><td style = \"text-align: right;\">1</td><td style = \"text-align: right;\">1</td><td style = \"text-align: right;\">0</td><td style = \"text-align: right;\">1</td></tr><tr><td class = \"rowNumber\" style = \"font-weight: bold; text-align: right;\">9915</td><td style = \"text-align: right;\">0.0769231</td><td style = \"text-align: right;\">0.117891</td><td style = \"text-align: right;\">0.25</td><td style = \"text-align: right;\">1.0</td><td style = \"text-align: right;\">1</td><td style = \"text-align: right;\">0</td><td style = \"text-align: right;\">0</td><td style = \"text-align: right;\">0</td></tr></tbody></table></div>"
      ],
      "text/latex": [
       "\\begin{tabular}{r|cccccccc}\n",
       "\t& age & inc & fsize & marr & twoearn & db & pira & hown\\\\\n",
       "\t\\hline\n",
       "\t& Float64 & Float64 & Float64 & Float64 & Int64 & Int64 & Int64 & Int64\\\\\n",
       "\t\\hline\n",
       "\t1 & 0.153846 & 0.125821 & 0.333333 & 1.0 & 0 & 0 & 0 & 1 \\\\\n",
       "\t2 & 0.692308 & 0.144156 & 0.333333 & 0.0 & 0 & 0 & 0 & 1 \\\\\n",
       "\t3 & 0.641026 & 0.224115 & 0.166667 & 1.0 & 1 & 0 & 1 & 1 \\\\\n",
       "\t4 & 0.0769231 & 0.195705 & 0.25 & 1.0 & 1 & 0 & 0 & 0 \\\\\n",
       "\t5 & 0.435897 & 0.146166 & 0.166667 & 0.0 & 0 & 1 & 0 & 1 \\\\\n",
       "\t6 & 0.615385 & 0.324836 & 0.416667 & 1.0 & 1 & 1 & 0 & 1 \\\\\n",
       "\t7 & 0.384615 & 0.245649 & 0.25 & 1.0 & 1 & 1 & 0 & 1 \\\\\n",
       "\t8 & 0.846154 & 0.0706319 & 0.0 & 0.0 & 0 & 0 & 0 & 0 \\\\\n",
       "\t9 & 0.102564 & 0.0376875 & 0.25 & 0.0 & 0 & 0 & 0 & 0 \\\\\n",
       "\t10 & 0.641026 & 0.0343906 & 0.0 & 0.0 & 0 & 0 & 1 & 0 \\\\\n",
       "\t11 & 0.512821 & 0.187482 & 0.0 & 0.0 & 0 & 1 & 1 & 1 \\\\\n",
       "\t12 & 0.0 & 0.175569 & 0.166667 & 1.0 & 1 & 0 & 0 & 0 \\\\\n",
       "\t13 & 0.128205 & 0.133395 & 0.0833333 & 1.0 & 0 & 0 & 0 & 0 \\\\\n",
       "\t14 & 0.0512821 & 0.050103 & 0.0 & 0.0 & 0 & 0 & 0 & 0 \\\\\n",
       "\t15 & 0.435897 & 0.358442 & 0.25 & 1.0 & 1 & 0 & 1 & 1 \\\\\n",
       "\t16 & 0.25641 & 0.142416 & 0.0833333 & 1.0 & 1 & 0 & 0 & 0 \\\\\n",
       "\t17 & 0.25641 & 0.270357 & 0.0 & 0.0 & 0 & 0 & 1 & 0 \\\\\n",
       "\t18 & 0.410256 & 0.141141 & 0.333333 & 1.0 & 0 & 0 & 0 & 0 \\\\\n",
       "\t19 & 0.717949 & 0.0506422 & 0.0 & 1.0 & 0 & 0 & 0 & 0 \\\\\n",
       "\t20 & 0.948718 & 0.315558 & 0.166667 & 1.0 & 0 & 1 & 0 & 1 \\\\\n",
       "\t21 & 0.512821 & 0.166683 & 0.0 & 0.0 & 0 & 0 & 0 & 0 \\\\\n",
       "\t22 & 0.794872 & 0.077385 & 0.0 & 0.0 & 0 & 0 & 0 & 0 \\\\\n",
       "\t23 & 0.153846 & 0.0571625 & 0.0 & 0.0 & 0 & 0 & 0 & 0 \\\\\n",
       "\t24 & 0.153846 & 0.117769 & 0.333333 & 1.0 & 1 & 0 & 0 & 0 \\\\\n",
       "\t$\\dots$ & $\\dots$ & $\\dots$ & $\\dots$ & $\\dots$ & $\\dots$ & $\\dots$ & $\\dots$ & $\\dots$ \\\\\n",
       "\\end{tabular}\n"
      ],
      "text/plain": [
       "\u001b[1m9915×8 DataFrame\u001b[0m\n",
       "\u001b[1m  Row \u001b[0m│\u001b[1m age       \u001b[0m\u001b[1m inc       \u001b[0m\u001b[1m fsize     \u001b[0m\u001b[1m marr    \u001b[0m\u001b[1m twoearn \u001b[0m\u001b[1m db    \u001b[0m\u001b[1m pira  \u001b[0m\u001b[1m hown \u001b[0m ⋯\n",
       "      │\u001b[90m Float64   \u001b[0m\u001b[90m Float64   \u001b[0m\u001b[90m Float64   \u001b[0m\u001b[90m Float64 \u001b[0m\u001b[90m Int64   \u001b[0m\u001b[90m Int64 \u001b[0m\u001b[90m Int64 \u001b[0m\u001b[90m Int64\u001b[0m ⋯\n",
       "──────┼─────────────────────────────────────────────────────────────────────────\n",
       "    1 │ 0.153846   0.125821   0.333333       1.0        0      0      0      1 ⋯\n",
       "    2 │ 0.692308   0.144156   0.333333       0.0        0      0      0      1\n",
       "    3 │ 0.641026   0.224115   0.166667       1.0        1      0      1      1\n",
       "    4 │ 0.0769231  0.195705   0.25           1.0        1      0      0      0\n",
       "    5 │ 0.435897   0.146166   0.166667       0.0        0      1      0      1 ⋯\n",
       "    6 │ 0.615385   0.324836   0.416667       1.0        1      1      0      1\n",
       "    7 │ 0.384615   0.245649   0.25           1.0        1      1      0      1\n",
       "    8 │ 0.846154   0.0706319  0.0            0.0        0      0      0      0\n",
       "  ⋮   │     ⋮          ⋮          ⋮         ⋮        ⋮       ⋮      ⋮      ⋮   ⋱\n",
       " 9909 │ 0.0769231  0.141264   0.0833333      1.0        1      0      0      0 ⋯\n",
       " 9910 │ 0.615385   0.273176   0.25           1.0        1      0      1      1\n",
       " 9911 │ 0.230769   0.0659869  0.0            0.0        0      1      0      0\n",
       " 9912 │ 0.205128   0.170274   0.166667       1.0        0      1      0      1\n",
       " 9913 │ 0.230769   0.266644   0.25           1.0        1      0      0      1 ⋯\n",
       " 9914 │ 0.410256   0.240391   0.166667       1.0        1      1      0      1\n",
       " 9915 │ 0.0769231  0.117891   0.25           1.0        1      0      0      0\n",
       "\u001b[36m                                                              9900 rows omitted\u001b[0m"
      ]
     },
     "metadata": {},
     "output_type": "display_data"
    }
   ],
   "source": [
    "covariates.inc = (covariates.inc .- minimum(covariates.inc))/(maximum(covariates.inc) - minimum(covariates.inc))\n",
    "covariates.age = (covariates.age .- minimum(covariates.age))/(maximum(covariates.age) - minimum(covariates.age))\n",
    "covariates.fsize = (covariates.fsize .- minimum(covariates.fsize))/(maximum(covariates.fsize) - minimum(covariates.fsize))\n",
    "covariates.marr = (covariates.marr .- minimum(covariates.marr))/(maximum(covariates.marr) - minimum(covariates.marr))\n",
    "covariates"
   ]
  },
  {
   "cell_type": "code",
   "execution_count": 59,
   "metadata": {},
   "outputs": [
    {
     "data": {
      "text/plain": [
       "DoubleMachineLearning([0.46153846153846156 0.21734974017060496 … 0.0 1.0; 0.5897435897435898 0.05495636827139916 … 0.0 0.0; … ; 0.02564102564102564 0.11648200804000393 … 0.0 1.0; 0.6410256410256411 0.22411510932444356 … 1.0 1.0], [0.0, 0.0, 1.0, 0.0, 0.0, 1.0, 1.0, 0.0, 0.0, 0.0  …  0.0, 1.0, 1.0, 1.0, 0.0, 1.0, 0.0, 1.0, 0.0, 0.0], [18800.0, 500.0, 5600.0, 62535.0, -5100.0, 9145.0, 25999.0, 0.0, 2150.0, 5000.0  …  189000.0, 14400.0, 240.0, 249.0, -928.0, 107750.0, 0.0, 114335.0, 10500.0, 8849.0], \"ATE\", false, \"regression\", CausalELM.swish, 9915, 100, 6, 24, NaN, 5)"
      ]
     },
     "metadata": {},
     "output_type": "display_data"
    }
   ],
   "source": [
    "dml = DoubleMachineLearning(covariates, treatment, outcome, activation=swish)"
   ]
  },
  {
   "cell_type": "code",
   "execution_count": 60,
   "metadata": {},
   "outputs": [
    {
     "data": {
      "text/plain": [
       "RLearner([0.1282051282051282 0.11108932248259633 … 0.0 1.0; 0.6923076923076923 0.1186881066771252 … 0.0 1.0; … ; 0.20512820512820512 0.07500735366212374 … 0.0 1.0; 0.41025641025641024 0.11607755662319835 … 0.0 1.0], [0.0, 0.0, 1.0, 0.0, 0.0, 1.0, 1.0, 0.0, 0.0, 0.0  …  0.0, 1.0, 0.0, 1.0, 0.0, 0.0, 0.0, 0.0, 0.0, 0.0], [-8900.0, -4800.0, 27500.0, -1650.0, -2000.0, 30740.0, 2859.0, -2150.0, 0.0, 11599.0  …  43599.0, -7200.0, 23309.0, 8774.0, 6500.0, -400.0, 22700.0, 7399.0, -5400.0, 1499.0], \"CATE\", false, \"regression\", CausalELM.swish, 9915, 100, 6, 32, [NaN, NaN, NaN, NaN, NaN, NaN, NaN, NaN, NaN, NaN  …  NaN, NaN, NaN, NaN, NaN, NaN, NaN, NaN, NaN, NaN], 5)"
      ]
     },
     "metadata": {},
     "output_type": "display_data"
    }
   ],
   "source": [
    "r_learner = RLearner(covariates, treatment, outcome, activation=swish)"
   ]
  },
  {
   "cell_type": "code",
   "execution_count": 61,
   "metadata": {},
   "outputs": [
    {
     "data": {
      "text/plain": [
       "DoublyRobustLearner([0.6410256410256411 0.1558486126090793 … 0.0 1.0; 0.23076923076923078 0.06633003235611334 … 0.0 0.0; … ; 0.6153846153846154 0.06843808216491813 … 0.0 0.0; 0.7435897435897436 0.2292994411216786 … 0.0 1.0], [0.0, 0.0, 1.0, 1.0, 0.0, 0.0, 0.0, 0.0, 0.0, 1.0  …  0.0, 0.0, 0.0, 1.0, 0.0, 1.0, 0.0, 1.0, 0.0, 0.0], [100.0, 0.0, 14350.0, 4600.0, 84248.0, -1800.0, 1020.0, 2280.0, 14699.0, 881.0  …  367.0, -5600.0, -5400.0, 5674.0, 12211.0, 32500.0, 1152.0, 2182.0, 0.0, 330.0], \"CATE\", false, \"regression\", CausalELM.swish, 9915, 100, 6, 32, [NaN, NaN, NaN, NaN, NaN, NaN, NaN, NaN, NaN, NaN  …  NaN, NaN, NaN, NaN, NaN, NaN, NaN, NaN, NaN, NaN], 2)"
      ]
     },
     "metadata": {},
     "output_type": "display_data"
    }
   ],
   "source": [
    "dre = DoublyRobustLearner(covariates, treatment, outcome, activation=swish)"
   ]
  },
  {
   "cell_type": "code",
   "execution_count": 62,
   "metadata": {},
   "outputs": [
    {
     "data": {
      "text/plain": [
       "8804.269472283213"
      ]
     },
     "metadata": {},
     "output_type": "display_data"
    }
   ],
   "source": [
    "estimate_causal_effect!(dml)"
   ]
  },
  {
   "cell_type": "code",
   "execution_count": 63,
   "metadata": {},
   "outputs": [
    {
     "data": {
      "text/plain": [
       "9915-element Vector{Float64}:\n",
       "  1033.275328379404\n",
       "  3897.6188907530145\n",
       " 27094.516749605616\n",
       "  8327.283149032586\n",
       "  6781.702531736929\n",
       " 50200.72898282418\n",
       "   618.590315821573\n",
       "  6647.26749174192\n",
       "  4325.783318029439\n",
       " 16617.629336705013\n",
       "     ⋮\n",
       " 25103.616301146572\n",
       " 40417.24987461999\n",
       "  6976.012498684692\n",
       "  8869.662932387795\n",
       " -1030.3323016387612\n",
       "  4912.327776140574\n",
       "  2840.9932292653525\n",
       "  3323.126233753097\n",
       " 21356.54170795394"
      ]
     },
     "metadata": {},
     "output_type": "display_data"
    }
   ],
   "source": [
    "estimate_causal_effect!(r_learner)"
   ]
  },
  {
   "cell_type": "code",
   "execution_count": 64,
   "metadata": {},
   "outputs": [
    {
     "data": {
      "text/plain": [
       "9915-element Vector{Float64}:\n",
       "  8651.259686332123\n",
       "  2763.6426805062965\n",
       "  4281.08620983512\n",
       "  6996.106017505121\n",
       " 37295.1224689869\n",
       "  3425.2628336886887\n",
       "  7259.653364085303\n",
       "  3931.840707261489\n",
       "  3390.6489181977217\n",
       "   396.19186564028234\n",
       "     ⋮\n",
       " 13778.740930336877\n",
       " 13824.272936865971\n",
       "   770.8718719469387\n",
       "  5661.227928432385\n",
       " 10218.778717409776\n",
       "  3707.70741363045\n",
       "  2089.690748271022\n",
       "  3767.843767168565\n",
       " 17841.535784697724"
      ]
     },
     "metadata": {},
     "output_type": "display_data"
    }
   ],
   "source": [
    "estimate_causal_effect!(dre)"
   ]
  },
  {
   "cell_type": "code",
   "execution_count": 9,
   "metadata": {},
   "outputs": [
    {
     "data": {
      "text/plain": [
       "Dict{Any, Any} with 11 entries:\n",
       "  \"Activation Function\"    => relu\n",
       "  \"Quantity of Interest\"   => \"ATE\"\n",
       "  \"Sample Size\"            => 9915\n",
       "  \"Number of Machines\"     => 100\n",
       "  \"Causal Effect\"          => 8823.5\n",
       "  \"Number of Neurons\"      => 24\n",
       "  \"Task\"                   => \"regression\"\n",
       "  \"Time Series/Panel Data\" => false\n",
       "  \"Standard Error\"         => NaN\n",
       "  \"p-value\"                => NaN\n",
       "  \"Number of Features\"     => 6"
      ]
     },
     "metadata": {},
     "output_type": "display_data"
    }
   ],
   "source": [
    "summarize(dml)"
   ]
  },
  {
   "cell_type": "code",
   "execution_count": 10,
   "metadata": {},
   "outputs": [
    {
     "data": {
      "text/plain": [
       "Dict{Any, Any} with 11 entries:\n",
       "  \"Activation Function\"    => relu\n",
       "  \"Quantity of Interest\"   => \"CATE\"\n",
       "  \"Sample Size\"            => 9915\n",
       "  \"Number of Machines\"     => 100\n",
       "  \"Causal Effect\"          => [4085.58, 15773.5, 38901.8, 3825.38, 11964.8, 267…\n",
       "  \"Number of Neurons\"      => 32\n",
       "  \"Task\"                   => \"regression\"\n",
       "  \"Time Series/Panel Data\" => false\n",
       "  \"Standard Error\"         => NaN\n",
       "  \"p-value\"                => NaN\n",
       "  \"Number of Features\"     => 6"
      ]
     },
     "metadata": {},
     "output_type": "display_data"
    }
   ],
   "source": [
    "summarize(r_learner)"
   ]
  },
  {
   "cell_type": "code",
   "execution_count": 12,
   "metadata": {},
   "outputs": [
    {
     "data": {
      "text/plain": [
       "(Dict(\"0.1 Standard Deviations from Observed Outcomes\" => -8079.331571957283, \"0.075 Standard Deviations from Observed Outcomes\" => -6089.203934396697, \"0.025 Standard Deviations from Observed Outcomes\" => -7522.457852582857, \"0.05 Standard Deviations from Observed Outcomes\" => -12933.100480526482), 2.6894381997142496, Matrix{Float64}(undef, 0, 9))"
      ]
     },
     "metadata": {},
     "output_type": "display_data"
    }
   ],
   "source": [
    "validate(dml)"
   ]
  },
  {
   "cell_type": "code",
   "execution_count": 13,
   "metadata": {},
   "outputs": [
    {
     "data": {
      "text/plain": [
       "(Dict(\"0.1 Standard Deviations from Observed Outcomes\" => 155340.94980401796, \"0.075 Standard Deviations from Observed Outcomes\" => 559571.3301919985, \"0.025 Standard Deviations from Observed Outcomes\" => 274961.5431470514, \"0.05 Standard Deviations from Observed Outcomes\" => 345062.1310616215), 2.8689322412325833, Matrix{Float64}(undef, 0, 9))"
      ]
     },
     "metadata": {},
     "output_type": "display_data"
    }
   ],
   "source": [
    "validate(r_learner)"
   ]
  }
 ],
 "metadata": {
  "kernelspec": {
   "display_name": "Julia 1.8.5",
   "language": "julia",
   "name": "julia-1.8"
  },
  "language_info": {
   "file_extension": ".jl",
   "mimetype": "application/julia",
   "name": "julia",
   "version": "1.8.5"
  }
 },
 "nbformat": 4,
 "nbformat_minor": 2
}
