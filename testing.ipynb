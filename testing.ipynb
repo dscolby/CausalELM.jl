{
 "cells": [
  {
   "cell_type": "code",
   "execution_count": 1,
   "metadata": {},
   "outputs": [],
   "source": [
    "using CausalELM\n",
    "using CSV\n",
    "using DataFrames\n",
    "using Random"
   ]
  },
  {
   "cell_type": "code",
   "execution_count": 2,
   "metadata": {},
   "outputs": [
    {
     "data": {
      "text/plain": [
       "(\u001b[1m9915×8 DataFrame\u001b[0m\n",
       "\u001b[1m  Row \u001b[0m│\u001b[1m age   \u001b[0m\u001b[1m inc   \u001b[0m\u001b[1m fsize \u001b[0m\u001b[1m marr  \u001b[0m\u001b[1m twoearn \u001b[0m\u001b[1m db    \u001b[0m\u001b[1m pira  \u001b[0m\u001b[1m hown  \u001b[0m\n",
       "      │\u001b[90m Int64 \u001b[0m\u001b[90m Int64 \u001b[0m\u001b[90m Int64 \u001b[0m\u001b[90m Int64 \u001b[0m\u001b[90m Int64   \u001b[0m\u001b[90m Int64 \u001b[0m\u001b[90m Int64 \u001b[0m\u001b[90m Int64 \u001b[0m\n",
       "──────┼──────────────────────────────────────────────────────────\n",
       "    1 │    31  28146      5      1        0      0      0      1\n",
       "    2 │    52  32634      5      0        0      0      0      1\n",
       "    3 │    50  52206      3      1        1      0      1      1\n",
       "    4 │    28  45252      4      1        1      0      0      0\n",
       "    5 │    42  33126      3      0        0      1      0      1\n",
       "    6 │    49  76860      6      1        1      1      0      1\n",
       "    7 │    40  57477      4      1        1      1      0      1\n",
       "    8 │    58  14637      1      0        0      0      0      0\n",
       "  ⋮   │   ⋮      ⋮      ⋮      ⋮       ⋮       ⋮      ⋮      ⋮\n",
       " 9909 │    28  31926      2      1        1      0      0      0\n",
       " 9910 │    49  64215      4      1        1      0      1      1\n",
       " 9911 │    34  13500      1      0        0      1      0      0\n",
       " 9912 │    33  39027      3      1        0      1      0      1\n",
       " 9913 │    34  62616      4      1        1      0      0      1\n",
       " 9914 │    41  56190      3      1        1      1      0      1\n",
       " 9915 │    28  26205      4      1        1      0      0      0\n",
       "\u001b[36m                                                9900 rows omitted\u001b[0m, [0, 0, 0, 0, 0, 0, 0, 0, 0, 0  …  1, 1, 1, 1, 1, 1, 1, 1, 1, 1], [-3300, 61010, 8849, -6013, -2375, -11000, -16901, 1000, 0, 6400  …  -1436, 4500, 34739, -750, 40000, 172, 836, 6150, 14499, -5400])"
      ]
     },
     "metadata": {},
     "output_type": "display_data"
    }
   ],
   "source": [
    "pension_df = CSV.read(\"pension.csv\", DataFrame)\n",
    "pension_df = pension_df[:, [10, 22, 13, 14, 15, 18, 20, 17, 24, 33]]\n",
    "covariates, treatment, outcome = pension_df[:, 3:end], pension_df[:, 2], pension_df[:, 1]"
   ]
  },
  {
   "cell_type": "code",
   "execution_count": 3,
   "metadata": {},
   "outputs": [
    {
     "data": {
      "text/html": [
       "<div><div style = \"float: left;\"><span>9915×8 DataFrame</span></div><div style = \"float: right;\"><span style = \"font-style: italic;\">9890 rows omitted</span></div><div style = \"clear: both;\"></div></div><div class = \"data-frame\" style = \"overflow-x: scroll;\"><table class = \"data-frame\" style = \"margin-bottom: 6px;\"><thead><tr class = \"header\"><th class = \"rowNumber\" style = \"font-weight: bold; text-align: right;\">Row</th><th style = \"text-align: left;\">age</th><th style = \"text-align: left;\">inc</th><th style = \"text-align: left;\">fsize</th><th style = \"text-align: left;\">marr</th><th style = \"text-align: left;\">twoearn</th><th style = \"text-align: left;\">db</th><th style = \"text-align: left;\">pira</th><th style = \"text-align: left;\">hown</th></tr><tr class = \"subheader headerLastRow\"><th class = \"rowNumber\" style = \"font-weight: bold; text-align: right;\"></th><th title = \"Float64\" style = \"text-align: left;\">Float64</th><th title = \"Float64\" style = \"text-align: left;\">Float64</th><th title = \"Float64\" style = \"text-align: left;\">Float64</th><th title = \"Float64\" style = \"text-align: left;\">Float64</th><th title = \"Int64\" style = \"text-align: left;\">Int64</th><th title = \"Int64\" style = \"text-align: left;\">Int64</th><th title = \"Int64\" style = \"text-align: left;\">Int64</th><th title = \"Int64\" style = \"text-align: left;\">Int64</th></tr></thead><tbody><tr><td class = \"rowNumber\" style = \"font-weight: bold; text-align: right;\">1</td><td style = \"text-align: right;\">0.153846</td><td style = \"text-align: right;\">0.125821</td><td style = \"text-align: right;\">0.333333</td><td style = \"text-align: right;\">1.0</td><td style = \"text-align: right;\">0</td><td style = \"text-align: right;\">0</td><td style = \"text-align: right;\">0</td><td style = \"text-align: right;\">1</td></tr><tr><td class = \"rowNumber\" style = \"font-weight: bold; text-align: right;\">2</td><td style = \"text-align: right;\">0.692308</td><td style = \"text-align: right;\">0.144156</td><td style = \"text-align: right;\">0.333333</td><td style = \"text-align: right;\">0.0</td><td style = \"text-align: right;\">0</td><td style = \"text-align: right;\">0</td><td style = \"text-align: right;\">0</td><td style = \"text-align: right;\">1</td></tr><tr><td class = \"rowNumber\" style = \"font-weight: bold; text-align: right;\">3</td><td style = \"text-align: right;\">0.641026</td><td style = \"text-align: right;\">0.224115</td><td style = \"text-align: right;\">0.166667</td><td style = \"text-align: right;\">1.0</td><td style = \"text-align: right;\">1</td><td style = \"text-align: right;\">0</td><td style = \"text-align: right;\">1</td><td style = \"text-align: right;\">1</td></tr><tr><td class = \"rowNumber\" style = \"font-weight: bold; text-align: right;\">4</td><td style = \"text-align: right;\">0.0769231</td><td style = \"text-align: right;\">0.195705</td><td style = \"text-align: right;\">0.25</td><td style = \"text-align: right;\">1.0</td><td style = \"text-align: right;\">1</td><td style = \"text-align: right;\">0</td><td style = \"text-align: right;\">0</td><td style = \"text-align: right;\">0</td></tr><tr><td class = \"rowNumber\" style = \"font-weight: bold; text-align: right;\">5</td><td style = \"text-align: right;\">0.435897</td><td style = \"text-align: right;\">0.146166</td><td style = \"text-align: right;\">0.166667</td><td style = \"text-align: right;\">0.0</td><td style = \"text-align: right;\">0</td><td style = \"text-align: right;\">1</td><td style = \"text-align: right;\">0</td><td style = \"text-align: right;\">1</td></tr><tr><td class = \"rowNumber\" style = \"font-weight: bold; text-align: right;\">6</td><td style = \"text-align: right;\">0.615385</td><td style = \"text-align: right;\">0.324836</td><td style = \"text-align: right;\">0.416667</td><td style = \"text-align: right;\">1.0</td><td style = \"text-align: right;\">1</td><td style = \"text-align: right;\">1</td><td style = \"text-align: right;\">0</td><td style = \"text-align: right;\">1</td></tr><tr><td class = \"rowNumber\" style = \"font-weight: bold; text-align: right;\">7</td><td style = \"text-align: right;\">0.384615</td><td style = \"text-align: right;\">0.245649</td><td style = \"text-align: right;\">0.25</td><td style = \"text-align: right;\">1.0</td><td style = \"text-align: right;\">1</td><td style = \"text-align: right;\">1</td><td style = \"text-align: right;\">0</td><td style = \"text-align: right;\">1</td></tr><tr><td class = \"rowNumber\" style = \"font-weight: bold; text-align: right;\">8</td><td style = \"text-align: right;\">0.846154</td><td style = \"text-align: right;\">0.0706319</td><td style = \"text-align: right;\">0.0</td><td style = \"text-align: right;\">0.0</td><td style = \"text-align: right;\">0</td><td style = \"text-align: right;\">0</td><td style = \"text-align: right;\">0</td><td style = \"text-align: right;\">0</td></tr><tr><td class = \"rowNumber\" style = \"font-weight: bold; text-align: right;\">9</td><td style = \"text-align: right;\">0.102564</td><td style = \"text-align: right;\">0.0376875</td><td style = \"text-align: right;\">0.25</td><td style = \"text-align: right;\">0.0</td><td style = \"text-align: right;\">0</td><td style = \"text-align: right;\">0</td><td style = \"text-align: right;\">0</td><td style = \"text-align: right;\">0</td></tr><tr><td class = \"rowNumber\" style = \"font-weight: bold; text-align: right;\">10</td><td style = \"text-align: right;\">0.641026</td><td style = \"text-align: right;\">0.0343906</td><td style = \"text-align: right;\">0.0</td><td style = \"text-align: right;\">0.0</td><td style = \"text-align: right;\">0</td><td style = \"text-align: right;\">0</td><td style = \"text-align: right;\">1</td><td style = \"text-align: right;\">0</td></tr><tr><td class = \"rowNumber\" style = \"font-weight: bold; text-align: right;\">11</td><td style = \"text-align: right;\">0.512821</td><td style = \"text-align: right;\">0.187482</td><td style = \"text-align: right;\">0.0</td><td style = \"text-align: right;\">0.0</td><td style = \"text-align: right;\">0</td><td style = \"text-align: right;\">1</td><td style = \"text-align: right;\">1</td><td style = \"text-align: right;\">1</td></tr><tr><td class = \"rowNumber\" style = \"font-weight: bold; text-align: right;\">12</td><td style = \"text-align: right;\">0.0</td><td style = \"text-align: right;\">0.175569</td><td style = \"text-align: right;\">0.166667</td><td style = \"text-align: right;\">1.0</td><td style = \"text-align: right;\">1</td><td style = \"text-align: right;\">0</td><td style = \"text-align: right;\">0</td><td style = \"text-align: right;\">0</td></tr><tr><td class = \"rowNumber\" style = \"font-weight: bold; text-align: right;\">13</td><td style = \"text-align: right;\">0.128205</td><td style = \"text-align: right;\">0.133395</td><td style = \"text-align: right;\">0.0833333</td><td style = \"text-align: right;\">1.0</td><td style = \"text-align: right;\">0</td><td style = \"text-align: right;\">0</td><td style = \"text-align: right;\">0</td><td style = \"text-align: right;\">0</td></tr><tr><td style = \"text-align: right;\">&vellip;</td><td style = \"text-align: right;\">&vellip;</td><td style = \"text-align: right;\">&vellip;</td><td style = \"text-align: right;\">&vellip;</td><td style = \"text-align: right;\">&vellip;</td><td style = \"text-align: right;\">&vellip;</td><td style = \"text-align: right;\">&vellip;</td><td style = \"text-align: right;\">&vellip;</td><td style = \"text-align: right;\">&vellip;</td></tr><tr><td class = \"rowNumber\" style = \"font-weight: bold; text-align: right;\">9904</td><td style = \"text-align: right;\">0.974359</td><td style = \"text-align: right;\">0.167333</td><td style = \"text-align: right;\">0.0</td><td style = \"text-align: right;\">0.0</td><td style = \"text-align: right;\">0</td><td style = \"text-align: right;\">0</td><td style = \"text-align: right;\">1</td><td style = \"text-align: right;\">1</td></tr><tr><td class = \"rowNumber\" style = \"font-weight: bold; text-align: right;\">9905</td><td style = \"text-align: right;\">0.179487</td><td style = \"text-align: right;\">0.213232</td><td style = \"text-align: right;\">0.166667</td><td style = \"text-align: right;\">1.0</td><td style = \"text-align: right;\">1</td><td style = \"text-align: right;\">0</td><td style = \"text-align: right;\">0</td><td style = \"text-align: right;\">1</td></tr><tr><td class = \"rowNumber\" style = \"font-weight: bold; text-align: right;\">9906</td><td style = \"text-align: right;\">0.0512821</td><td style = \"text-align: right;\">0.165323</td><td style = \"text-align: right;\">0.25</td><td style = \"text-align: right;\">1.0</td><td style = \"text-align: right;\">1</td><td style = \"text-align: right;\">0</td><td style = \"text-align: right;\">0</td><td style = \"text-align: right;\">0</td></tr><tr><td class = \"rowNumber\" style = \"font-weight: bold; text-align: right;\">9907</td><td style = \"text-align: right;\">0.435897</td><td style = \"text-align: right;\">0.078292</td><td style = \"text-align: right;\">0.0</td><td style = \"text-align: right;\">0.0</td><td style = \"text-align: right;\">0</td><td style = \"text-align: right;\">0</td><td style = \"text-align: right;\">0</td><td style = \"text-align: right;\">1</td></tr><tr><td class = \"rowNumber\" style = \"font-weight: bold; text-align: right;\">9908</td><td style = \"text-align: right;\">0.333333</td><td style = \"text-align: right;\">0.0804</td><td style = \"text-align: right;\">0.166667</td><td style = \"text-align: right;\">1.0</td><td style = \"text-align: right;\">0</td><td style = \"text-align: right;\">0</td><td style = \"text-align: right;\">0</td><td style = \"text-align: right;\">1</td></tr><tr><td class = \"rowNumber\" style = \"font-weight: bold; text-align: right;\">9909</td><td style = \"text-align: right;\">0.0769231</td><td style = \"text-align: right;\">0.141264</td><td style = \"text-align: right;\">0.0833333</td><td style = \"text-align: right;\">1.0</td><td style = \"text-align: right;\">1</td><td style = \"text-align: right;\">0</td><td style = \"text-align: right;\">0</td><td style = \"text-align: right;\">0</td></tr><tr><td class = \"rowNumber\" style = \"font-weight: bold; text-align: right;\">9910</td><td style = \"text-align: right;\">0.615385</td><td style = \"text-align: right;\">0.273176</td><td style = \"text-align: right;\">0.25</td><td style = \"text-align: right;\">1.0</td><td style = \"text-align: right;\">1</td><td style = \"text-align: right;\">0</td><td style = \"text-align: right;\">1</td><td style = \"text-align: right;\">1</td></tr><tr><td class = \"rowNumber\" style = \"font-weight: bold; text-align: right;\">9911</td><td style = \"text-align: right;\">0.230769</td><td style = \"text-align: right;\">0.0659869</td><td style = \"text-align: right;\">0.0</td><td style = \"text-align: right;\">0.0</td><td style = \"text-align: right;\">0</td><td style = \"text-align: right;\">1</td><td style = \"text-align: right;\">0</td><td style = \"text-align: right;\">0</td></tr><tr><td class = \"rowNumber\" style = \"font-weight: bold; text-align: right;\">9912</td><td style = \"text-align: right;\">0.205128</td><td style = \"text-align: right;\">0.170274</td><td style = \"text-align: right;\">0.166667</td><td style = \"text-align: right;\">1.0</td><td style = \"text-align: right;\">0</td><td style = \"text-align: right;\">1</td><td style = \"text-align: right;\">0</td><td style = \"text-align: right;\">1</td></tr><tr><td class = \"rowNumber\" style = \"font-weight: bold; text-align: right;\">9913</td><td style = \"text-align: right;\">0.230769</td><td style = \"text-align: right;\">0.266644</td><td style = \"text-align: right;\">0.25</td><td style = \"text-align: right;\">1.0</td><td style = \"text-align: right;\">1</td><td style = \"text-align: right;\">0</td><td style = \"text-align: right;\">0</td><td style = \"text-align: right;\">1</td></tr><tr><td class = \"rowNumber\" style = \"font-weight: bold; text-align: right;\">9914</td><td style = \"text-align: right;\">0.410256</td><td style = \"text-align: right;\">0.240391</td><td style = \"text-align: right;\">0.166667</td><td style = \"text-align: right;\">1.0</td><td style = \"text-align: right;\">1</td><td style = \"text-align: right;\">1</td><td style = \"text-align: right;\">0</td><td style = \"text-align: right;\">1</td></tr><tr><td class = \"rowNumber\" style = \"font-weight: bold; text-align: right;\">9915</td><td style = \"text-align: right;\">0.0769231</td><td style = \"text-align: right;\">0.117891</td><td style = \"text-align: right;\">0.25</td><td style = \"text-align: right;\">1.0</td><td style = \"text-align: right;\">1</td><td style = \"text-align: right;\">0</td><td style = \"text-align: right;\">0</td><td style = \"text-align: right;\">0</td></tr></tbody></table></div>"
      ],
      "text/latex": [
       "\\begin{tabular}{r|cccccccc}\n",
       "\t& age & inc & fsize & marr & twoearn & db & pira & hown\\\\\n",
       "\t\\hline\n",
       "\t& Float64 & Float64 & Float64 & Float64 & Int64 & Int64 & Int64 & Int64\\\\\n",
       "\t\\hline\n",
       "\t1 & 0.153846 & 0.125821 & 0.333333 & 1.0 & 0 & 0 & 0 & 1 \\\\\n",
       "\t2 & 0.692308 & 0.144156 & 0.333333 & 0.0 & 0 & 0 & 0 & 1 \\\\\n",
       "\t3 & 0.641026 & 0.224115 & 0.166667 & 1.0 & 1 & 0 & 1 & 1 \\\\\n",
       "\t4 & 0.0769231 & 0.195705 & 0.25 & 1.0 & 1 & 0 & 0 & 0 \\\\\n",
       "\t5 & 0.435897 & 0.146166 & 0.166667 & 0.0 & 0 & 1 & 0 & 1 \\\\\n",
       "\t6 & 0.615385 & 0.324836 & 0.416667 & 1.0 & 1 & 1 & 0 & 1 \\\\\n",
       "\t7 & 0.384615 & 0.245649 & 0.25 & 1.0 & 1 & 1 & 0 & 1 \\\\\n",
       "\t8 & 0.846154 & 0.0706319 & 0.0 & 0.0 & 0 & 0 & 0 & 0 \\\\\n",
       "\t9 & 0.102564 & 0.0376875 & 0.25 & 0.0 & 0 & 0 & 0 & 0 \\\\\n",
       "\t10 & 0.641026 & 0.0343906 & 0.0 & 0.0 & 0 & 0 & 1 & 0 \\\\\n",
       "\t11 & 0.512821 & 0.187482 & 0.0 & 0.0 & 0 & 1 & 1 & 1 \\\\\n",
       "\t12 & 0.0 & 0.175569 & 0.166667 & 1.0 & 1 & 0 & 0 & 0 \\\\\n",
       "\t13 & 0.128205 & 0.133395 & 0.0833333 & 1.0 & 0 & 0 & 0 & 0 \\\\\n",
       "\t14 & 0.0512821 & 0.050103 & 0.0 & 0.0 & 0 & 0 & 0 & 0 \\\\\n",
       "\t15 & 0.435897 & 0.358442 & 0.25 & 1.0 & 1 & 0 & 1 & 1 \\\\\n",
       "\t16 & 0.25641 & 0.142416 & 0.0833333 & 1.0 & 1 & 0 & 0 & 0 \\\\\n",
       "\t17 & 0.25641 & 0.270357 & 0.0 & 0.0 & 0 & 0 & 1 & 0 \\\\\n",
       "\t18 & 0.410256 & 0.141141 & 0.333333 & 1.0 & 0 & 0 & 0 & 0 \\\\\n",
       "\t19 & 0.717949 & 0.0506422 & 0.0 & 1.0 & 0 & 0 & 0 & 0 \\\\\n",
       "\t20 & 0.948718 & 0.315558 & 0.166667 & 1.0 & 0 & 1 & 0 & 1 \\\\\n",
       "\t21 & 0.512821 & 0.166683 & 0.0 & 0.0 & 0 & 0 & 0 & 0 \\\\\n",
       "\t22 & 0.794872 & 0.077385 & 0.0 & 0.0 & 0 & 0 & 0 & 0 \\\\\n",
       "\t23 & 0.153846 & 0.0571625 & 0.0 & 0.0 & 0 & 0 & 0 & 0 \\\\\n",
       "\t24 & 0.153846 & 0.117769 & 0.333333 & 1.0 & 1 & 0 & 0 & 0 \\\\\n",
       "\t$\\dots$ & $\\dots$ & $\\dots$ & $\\dots$ & $\\dots$ & $\\dots$ & $\\dots$ & $\\dots$ & $\\dots$ \\\\\n",
       "\\end{tabular}\n"
      ],
      "text/plain": [
       "\u001b[1m9915×8 DataFrame\u001b[0m\n",
       "\u001b[1m  Row \u001b[0m│\u001b[1m age       \u001b[0m\u001b[1m inc       \u001b[0m\u001b[1m fsize     \u001b[0m\u001b[1m marr    \u001b[0m\u001b[1m twoearn \u001b[0m\u001b[1m db    \u001b[0m\u001b[1m pira  \u001b[0m\u001b[1m hown \u001b[0m ⋯\n",
       "      │\u001b[90m Float64   \u001b[0m\u001b[90m Float64   \u001b[0m\u001b[90m Float64   \u001b[0m\u001b[90m Float64 \u001b[0m\u001b[90m Int64   \u001b[0m\u001b[90m Int64 \u001b[0m\u001b[90m Int64 \u001b[0m\u001b[90m Int64\u001b[0m ⋯\n",
       "──────┼─────────────────────────────────────────────────────────────────────────\n",
       "    1 │ 0.153846   0.125821   0.333333       1.0        0      0      0      1 ⋯\n",
       "    2 │ 0.692308   0.144156   0.333333       0.0        0      0      0      1\n",
       "    3 │ 0.641026   0.224115   0.166667       1.0        1      0      1      1\n",
       "    4 │ 0.0769231  0.195705   0.25           1.0        1      0      0      0\n",
       "    5 │ 0.435897   0.146166   0.166667       0.0        0      1      0      1 ⋯\n",
       "    6 │ 0.615385   0.324836   0.416667       1.0        1      1      0      1\n",
       "    7 │ 0.384615   0.245649   0.25           1.0        1      1      0      1\n",
       "    8 │ 0.846154   0.0706319  0.0            0.0        0      0      0      0\n",
       "  ⋮   │     ⋮          ⋮          ⋮         ⋮        ⋮       ⋮      ⋮      ⋮   ⋱\n",
       " 9909 │ 0.0769231  0.141264   0.0833333      1.0        1      0      0      0 ⋯\n",
       " 9910 │ 0.615385   0.273176   0.25           1.0        1      0      1      1\n",
       " 9911 │ 0.230769   0.0659869  0.0            0.0        0      1      0      0\n",
       " 9912 │ 0.205128   0.170274   0.166667       1.0        0      1      0      1\n",
       " 9913 │ 0.230769   0.266644   0.25           1.0        1      0      0      1 ⋯\n",
       " 9914 │ 0.410256   0.240391   0.166667       1.0        1      1      0      1\n",
       " 9915 │ 0.0769231  0.117891   0.25           1.0        1      0      0      0\n",
       "\u001b[36m                                                              9900 rows omitted\u001b[0m"
      ]
     },
     "metadata": {},
     "output_type": "display_data"
    }
   ],
   "source": [
    "covariates.inc = (covariates.inc .- minimum(covariates.inc))/(maximum(covariates.inc) - minimum(covariates.inc))\n",
    "covariates.age = (covariates.age .- minimum(covariates.age))/(maximum(covariates.age) - minimum(covariates.age))\n",
    "covariates.fsize = (covariates.fsize .- minimum(covariates.fsize))/(maximum(covariates.fsize) - minimum(covariates.fsize))\n",
    "covariates.marr = (covariates.marr .- minimum(covariates.marr))/(maximum(covariates.marr) - minimum(covariates.marr))\n",
    "covariates"
   ]
  },
  {
   "cell_type": "code",
   "execution_count": 16,
   "metadata": {},
   "outputs": [
    {
     "data": {
      "text/plain": [
       "DoubleMachineLearning([0.46153846153846156 0.33966565349544076 … 1.0 1.0; 0.10256410256410256 0.08505735856456516 … 0.0 0.0; … ; 0.6923076923076923 0.042308069418570446 … 0.0 0.0; 0.10256410256410256 0.17147514462202176 … 1.0 1.0], [1.0, 0.0, 1.0, 1.0, 1.0, 0.0, 0.0, 0.0, 1.0, 0.0  …  0.0, 1.0, 1.0, 1.0, 1.0, 1.0, 0.0, 0.0, 0.0, 0.0], [14248.0, 2300.0, 0.0, 33748.0, -800.0, 25398.0, -1200.0, 120000.0, 15300.0, 100.0  …  60201.0, 51987.0, 9249.0, 6420.0, 3200.0, 99300.0, 19599.0, 8030.0, 4190.0, 8400.0], \"ATE\", false, \"regression\", CausalELM.swish, 9915, 50, 6, 24, NaN, 5)"
      ]
     },
     "metadata": {},
     "output_type": "display_data"
    }
   ],
   "source": [
    "dml = DoubleMachineLearning(covariates, treatment, outcome, num_machines=50)"
   ]
  },
  {
   "cell_type": "code",
   "execution_count": 5,
   "metadata": {},
   "outputs": [
    {
     "data": {
      "text/plain": [
       "RLearner([0.3333333333333333 0.09809785273065987 … 1.0 0.0; 0.1282051282051282 0.08584174919109716 … 0.0 1.0; … ; 0.48717948717948717 0.6506030002941465 … 1.0 1.0; 0.5128205128205128 0.07530150014707324 … 0.0 1.0], [1.0, 0.0, 1.0, 0.0, 1.0, 0.0, 0.0, 1.0, 0.0, 0.0  …  0.0, 0.0, 1.0, 0.0, 0.0, 0.0, 1.0, 1.0, 1.0, 0.0], [11000.0, 50.0, 157973.0, 100.0, -3700.0, 26000.0, 44.0, 32000.0, -6705.0, 10500.0  …  999.0, -18000.0, 46099.0, 920.0, -19950.0, 300.0, 11750.0, 182500.0, 47000.0, 499.0], \"CATE\", false, \"regression\", CausalELM.swish, 9915, 100, 6, 32, [NaN, NaN, NaN, NaN, NaN, NaN, NaN, NaN, NaN, NaN  …  NaN, NaN, NaN, NaN, NaN, NaN, NaN, NaN, NaN, NaN], 5)"
      ]
     },
     "metadata": {},
     "output_type": "display_data"
    }
   ],
   "source": [
    "r_learner = RLearner(covariates, treatment, outcome)"
   ]
  },
  {
   "cell_type": "code",
   "execution_count": 6,
   "metadata": {},
   "outputs": [
    {
     "data": {
      "text/plain": [
       "DoublyRobustLearner([0.8974358974358975 0.2030100990293166 … 0.0 1.0; 0.5897435897435898 0.2634326894793607 … 0.0 1.0; … ; 0.0 0.19087655652514954 … 0.0 0.0; 0.3333333333333333 0.32516668300813806 … 1.0 0.0], [0.0, 0.0, 0.0, 1.0, 0.0, 0.0, 1.0, 1.0, 0.0, 1.0  …  0.0, 0.0, 0.0, 0.0, 0.0, 1.0, 0.0, 0.0, 0.0, 1.0], [41649.0, 9000.0, 0.0, 16350.0, 6000.0, 700.0, 13059.0, 5930.0, 23397.0, 1323.0  …  24500.0, 8050.0, -11000.0, 35499.0, -2854.0, 197590.0, -1400.0, 7700.0, 12000.0, 42050.0], \"CATE\", false, \"regression\", CausalELM.swish, 9915, 100, 6, 32, [NaN, NaN, NaN, NaN, NaN, NaN, NaN, NaN, NaN, NaN  …  NaN, NaN, NaN, NaN, NaN, NaN, NaN, NaN, NaN, NaN], 2)"
      ]
     },
     "metadata": {},
     "output_type": "display_data"
    }
   ],
   "source": [
    "dre = DoublyRobustLearner(covariates, treatment, outcome)"
   ]
  },
  {
   "cell_type": "code",
   "execution_count": 25,
   "metadata": {},
   "outputs": [
    {
     "data": {
      "text/plain": [
       "8868.651114858334"
      ]
     },
     "metadata": {},
     "output_type": "display_data"
    }
   ],
   "source": [
    "estimate_causal_effect!(dml)"
   ]
  },
  {
   "cell_type": "code",
   "execution_count": 8,
   "metadata": {},
   "outputs": [
    {
     "data": {
      "text/plain": [
       "9915-element Vector{Float64}:\n",
       "   7969.024541481493\n",
       "   2551.07486621794\n",
       "  48185.11603976369\n",
       "   6562.417861484062\n",
       "  12324.513387722585\n",
       "  91413.60918565083\n",
       " 103742.23330057286\n",
       "  13234.161144429849\n",
       "  16753.004994337723\n",
       "   6429.458448880052\n",
       "      ⋮\n",
       "   2331.601849423459\n",
       "  50477.892771963685\n",
       "  19942.337555990453\n",
       "  12658.185171498155\n",
       "   -442.6517574940871\n",
       "  72754.7346983037\n",
       "  42410.30074258264\n",
       "  64041.35045474993\n",
       "   1374.0969545336325"
      ]
     },
     "metadata": {},
     "output_type": "display_data"
    }
   ],
   "source": [
    "estimate_causal_effect!(r_learner)"
   ]
  },
  {
   "cell_type": "code",
   "execution_count": 9,
   "metadata": {},
   "outputs": [
    {
     "data": {
      "text/plain": [
       "9915-element Vector{Float64}:\n",
       " 13549.633020274861\n",
       " 20881.59369086071\n",
       "  1879.2141524564345\n",
       "  4752.192233979611\n",
       "  9972.464441326127\n",
       "  5368.174090907391\n",
       "  8080.56176700674\n",
       " 11685.092957657413\n",
       " -1689.8961993687453\n",
       "  4964.903827056494\n",
       "     ⋮\n",
       " 12745.035572594325\n",
       " 13779.898140138454\n",
       " 15285.34382394138\n",
       "  7686.997478984806\n",
       " 10874.155814573602\n",
       "  9104.438679085306\n",
       "  5974.4691837941145\n",
       "   -39.615643944068324\n",
       " -9482.093434774426"
      ]
     },
     "metadata": {},
     "output_type": "display_data"
    }
   ],
   "source": [
    "estimate_causal_effect!(dre)"
   ]
  },
  {
   "cell_type": "code",
   "execution_count": 10,
   "metadata": {},
   "outputs": [
    {
     "data": {
      "text/plain": [
       "Dict{Any, Any} with 11 entries:\n",
       "  \"Activation Function\"    => swish\n",
       "  \"Quantity of Interest\"   => \"ATE\"\n",
       "  \"Sample Size\"            => 9915\n",
       "  \"Number of Machines\"     => 100\n",
       "  \"Causal Effect\"          => 8701.76\n",
       "  \"Number of Neurons\"      => 24\n",
       "  \"Task\"                   => \"regression\"\n",
       "  \"Time Series/Panel Data\" => false\n",
       "  \"Standard Error\"         => NaN\n",
       "  \"p-value\"                => NaN\n",
       "  \"Number of Features\"     => 6"
      ]
     },
     "metadata": {},
     "output_type": "display_data"
    }
   ],
   "source": [
    "summarize(dml)"
   ]
  },
  {
   "cell_type": "code",
   "execution_count": 11,
   "metadata": {},
   "outputs": [
    {
     "data": {
      "text/plain": [
       "Dict{Any, Any} with 11 entries:\n",
       "  \"Activation Function\"    => swish\n",
       "  \"Quantity of Interest\"   => \"CATE\"\n",
       "  \"Sample Size\"            => 9915\n",
       "  \"Number of Machines\"     => 100\n",
       "  \"Causal Effect\"          => [7969.02, 2551.07, 48185.1, 6562.42, 12324.5, 914…\n",
       "  \"Number of Neurons\"      => 32\n",
       "  \"Task\"                   => \"regression\"\n",
       "  \"Time Series/Panel Data\" => false\n",
       "  \"Standard Error\"         => NaN\n",
       "  \"p-value\"                => NaN\n",
       "  \"Number of Features\"     => 6"
      ]
     },
     "metadata": {},
     "output_type": "display_data"
    }
   ],
   "source": [
    "summarize(r_learner)"
   ]
  },
  {
   "cell_type": "code",
   "execution_count": 12,
   "metadata": {},
   "outputs": [
    {
     "data": {
      "text/plain": [
       "Dict{Any, Any} with 11 entries:\n",
       "  \"Activation Function\"    => swish\n",
       "  \"Quantity of Interest\"   => \"CATE\"\n",
       "  \"Sample Size\"            => 9915\n",
       "  \"Number of Machines\"     => 100\n",
       "  \"Causal Effect\"          => [13549.6, 20881.6, 1879.21, 4752.19, 9972.46, 536…\n",
       "  \"Number of Neurons\"      => 32\n",
       "  \"Task\"                   => \"regression\"\n",
       "  \"Time Series/Panel Data\" => false\n",
       "  \"Standard Error\"         => NaN\n",
       "  \"p-value\"                => NaN\n",
       "  \"Number of Features\"     => 6"
      ]
     },
     "metadata": {},
     "output_type": "display_data"
    }
   ],
   "source": [
    "summarise(dre)"
   ]
  },
  {
   "cell_type": "code",
   "execution_count": 13,
   "metadata": {},
   "outputs": [
    {
     "data": {
      "text/plain": [
       "(Dict(\"0.1 Standard Deviations from Observed Outcomes\" => -1974.20426849962, \"0.075 Standard Deviations from Observed Outcomes\" => -549.8183509860896, \"0.025 Standard Deviations from Observed Outcomes\" => -4377.799707458391, \"0.05 Standard Deviations from Observed Outcomes\" => -2591.878868163885), 2.7460736072464016, Matrix{Float64}(undef, 0, 9))"
      ]
     },
     "metadata": {},
     "output_type": "display_data"
    }
   ],
   "source": [
    "validate(dml)"
   ]
  },
  {
   "cell_type": "code",
   "execution_count": 14,
   "metadata": {},
   "outputs": [
    {
     "data": {
      "text/plain": [
       "(Dict(\"0.1 Standard Deviations from Observed Outcomes\" => 248206.3227597734, \"0.075 Standard Deviations from Observed Outcomes\" => 404160.7518203919, \"0.025 Standard Deviations from Observed Outcomes\" => 322479.1870944485, \"0.05 Standard Deviations from Observed Outcomes\" => 155068.1882045497), 2.5694922346983624, Matrix{Float64}(undef, 0, 9))"
      ]
     },
     "metadata": {},
     "output_type": "display_data"
    }
   ],
   "source": [
    "validate(r_learner)"
   ]
  },
  {
   "cell_type": "code",
   "execution_count": 15,
   "metadata": {},
   "outputs": [
    {
     "data": {
      "text/plain": [
       "(Dict(\"0.1 Standard Deviations from Observed Outcomes\" => 430.7554873780964, \"0.075 Standard Deviations from Observed Outcomes\" => -4156.750735846773, \"0.025 Standard Deviations from Observed Outcomes\" => -5301.764975883297, \"0.05 Standard Deviations from Observed Outcomes\" => -6012.136217190272), 2.5976021674608534, Matrix{Float64}(undef, 0, 9))"
      ]
     },
     "metadata": {},
     "output_type": "display_data"
    }
   ],
   "source": [
    "validate(dre)"
   ]
  }
 ],
 "metadata": {
  "kernelspec": {
   "display_name": "Julia 1.8.5",
   "language": "julia",
   "name": "julia-1.8"
  },
  "language_info": {
   "file_extension": ".jl",
   "mimetype": "application/julia",
   "name": "julia",
   "version": "1.8.5"
  }
 },
 "nbformat": 4,
 "nbformat_minor": 2
}
