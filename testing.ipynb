{
 "cells": [
  {
   "cell_type": "code",
   "execution_count": 1,
   "metadata": {},
   "outputs": [],
   "source": [
    "using CausalELM\n",
    "using CSV\n",
    "using DataFrames\n",
    "using Random"
   ]
  },
  {
   "cell_type": "code",
   "execution_count": 2,
   "metadata": {},
   "outputs": [
    {
     "data": {
      "text/plain": [
       "(\u001b[1m9915×8 DataFrame\u001b[0m\n",
       "\u001b[1m  Row \u001b[0m│\u001b[1m age   \u001b[0m\u001b[1m inc   \u001b[0m\u001b[1m fsize \u001b[0m\u001b[1m marr  \u001b[0m\u001b[1m twoearn \u001b[0m\u001b[1m db    \u001b[0m\u001b[1m pira  \u001b[0m\u001b[1m hown  \u001b[0m\n",
       "      │\u001b[90m Int64 \u001b[0m\u001b[90m Int64 \u001b[0m\u001b[90m Int64 \u001b[0m\u001b[90m Int64 \u001b[0m\u001b[90m Int64   \u001b[0m\u001b[90m Int64 \u001b[0m\u001b[90m Int64 \u001b[0m\u001b[90m Int64 \u001b[0m\n",
       "──────┼──────────────────────────────────────────────────────────\n",
       "    1 │    31  28146      5      1        0      0      0      1\n",
       "    2 │    52  32634      5      0        0      0      0      1\n",
       "    3 │    50  52206      3      1        1      0      1      1\n",
       "    4 │    28  45252      4      1        1      0      0      0\n",
       "    5 │    42  33126      3      0        0      1      0      1\n",
       "    6 │    49  76860      6      1        1      1      0      1\n",
       "    7 │    40  57477      4      1        1      1      0      1\n",
       "    8 │    58  14637      1      0        0      0      0      0\n",
       "  ⋮   │   ⋮      ⋮      ⋮      ⋮       ⋮       ⋮      ⋮      ⋮\n",
       " 9909 │    28  31926      2      1        1      0      0      0\n",
       " 9910 │    49  64215      4      1        1      0      1      1\n",
       " 9911 │    34  13500      1      0        0      1      0      0\n",
       " 9912 │    33  39027      3      1        0      1      0      1\n",
       " 9913 │    34  62616      4      1        1      0      0      1\n",
       " 9914 │    41  56190      3      1        1      1      0      1\n",
       " 9915 │    28  26205      4      1        1      0      0      0\n",
       "\u001b[36m                                                9900 rows omitted\u001b[0m, [0, 0, 0, 0, 0, 0, 0, 0, 0, 0  …  1, 1, 1, 1, 1, 1, 1, 1, 1, 1], [-3300, 61010, 8849, -6013, -2375, -11000, -16901, 1000, 0, 6400  …  -1436, 4500, 34739, -750, 40000, 172, 836, 6150, 14499, -5400])"
      ]
     },
     "metadata": {},
     "output_type": "display_data"
    }
   ],
   "source": [
    "pension_df = CSV.read(\"pension.csv\", DataFrame)\n",
    "pension_df = pension_df[:, [10, 22, 13, 14, 15, 18, 20, 17, 24, 33]]\n",
    "covariates, treatment, outcome = pension_df[:, 3:end], pension_df[:, 2], pension_df[:, 1]"
   ]
  },
  {
   "cell_type": "code",
   "execution_count": 3,
   "metadata": {},
   "outputs": [
    {
     "data": {
      "text/html": [
       "<div><div style = \"float: left;\"><span>9915×8 DataFrame</span></div><div style = \"float: right;\"><span style = \"font-style: italic;\">9890 rows omitted</span></div><div style = \"clear: both;\"></div></div><div class = \"data-frame\" style = \"overflow-x: scroll;\"><table class = \"data-frame\" style = \"margin-bottom: 6px;\"><thead><tr class = \"header\"><th class = \"rowNumber\" style = \"font-weight: bold; text-align: right;\">Row</th><th style = \"text-align: left;\">age</th><th style = \"text-align: left;\">inc</th><th style = \"text-align: left;\">fsize</th><th style = \"text-align: left;\">marr</th><th style = \"text-align: left;\">twoearn</th><th style = \"text-align: left;\">db</th><th style = \"text-align: left;\">pira</th><th style = \"text-align: left;\">hown</th></tr><tr class = \"subheader headerLastRow\"><th class = \"rowNumber\" style = \"font-weight: bold; text-align: right;\"></th><th title = \"Float64\" style = \"text-align: left;\">Float64</th><th title = \"Float64\" style = \"text-align: left;\">Float64</th><th title = \"Float64\" style = \"text-align: left;\">Float64</th><th title = \"Float64\" style = \"text-align: left;\">Float64</th><th title = \"Int64\" style = \"text-align: left;\">Int64</th><th title = \"Int64\" style = \"text-align: left;\">Int64</th><th title = \"Int64\" style = \"text-align: left;\">Int64</th><th title = \"Int64\" style = \"text-align: left;\">Int64</th></tr></thead><tbody><tr><td class = \"rowNumber\" style = \"font-weight: bold; text-align: right;\">1</td><td style = \"text-align: right;\">0.153846</td><td style = \"text-align: right;\">0.125821</td><td style = \"text-align: right;\">0.333333</td><td style = \"text-align: right;\">1.0</td><td style = \"text-align: right;\">0</td><td style = \"text-align: right;\">0</td><td style = \"text-align: right;\">0</td><td style = \"text-align: right;\">1</td></tr><tr><td class = \"rowNumber\" style = \"font-weight: bold; text-align: right;\">2</td><td style = \"text-align: right;\">0.692308</td><td style = \"text-align: right;\">0.144156</td><td style = \"text-align: right;\">0.333333</td><td style = \"text-align: right;\">0.0</td><td style = \"text-align: right;\">0</td><td style = \"text-align: right;\">0</td><td style = \"text-align: right;\">0</td><td style = \"text-align: right;\">1</td></tr><tr><td class = \"rowNumber\" style = \"font-weight: bold; text-align: right;\">3</td><td style = \"text-align: right;\">0.641026</td><td style = \"text-align: right;\">0.224115</td><td style = \"text-align: right;\">0.166667</td><td style = \"text-align: right;\">1.0</td><td style = \"text-align: right;\">1</td><td style = \"text-align: right;\">0</td><td style = \"text-align: right;\">1</td><td style = \"text-align: right;\">1</td></tr><tr><td class = \"rowNumber\" style = \"font-weight: bold; text-align: right;\">4</td><td style = \"text-align: right;\">0.0769231</td><td style = \"text-align: right;\">0.195705</td><td style = \"text-align: right;\">0.25</td><td style = \"text-align: right;\">1.0</td><td style = \"text-align: right;\">1</td><td style = \"text-align: right;\">0</td><td style = \"text-align: right;\">0</td><td style = \"text-align: right;\">0</td></tr><tr><td class = \"rowNumber\" style = \"font-weight: bold; text-align: right;\">5</td><td style = \"text-align: right;\">0.435897</td><td style = \"text-align: right;\">0.146166</td><td style = \"text-align: right;\">0.166667</td><td style = \"text-align: right;\">0.0</td><td style = \"text-align: right;\">0</td><td style = \"text-align: right;\">1</td><td style = \"text-align: right;\">0</td><td style = \"text-align: right;\">1</td></tr><tr><td class = \"rowNumber\" style = \"font-weight: bold; text-align: right;\">6</td><td style = \"text-align: right;\">0.615385</td><td style = \"text-align: right;\">0.324836</td><td style = \"text-align: right;\">0.416667</td><td style = \"text-align: right;\">1.0</td><td style = \"text-align: right;\">1</td><td style = \"text-align: right;\">1</td><td style = \"text-align: right;\">0</td><td style = \"text-align: right;\">1</td></tr><tr><td class = \"rowNumber\" style = \"font-weight: bold; text-align: right;\">7</td><td style = \"text-align: right;\">0.384615</td><td style = \"text-align: right;\">0.245649</td><td style = \"text-align: right;\">0.25</td><td style = \"text-align: right;\">1.0</td><td style = \"text-align: right;\">1</td><td style = \"text-align: right;\">1</td><td style = \"text-align: right;\">0</td><td style = \"text-align: right;\">1</td></tr><tr><td class = \"rowNumber\" style = \"font-weight: bold; text-align: right;\">8</td><td style = \"text-align: right;\">0.846154</td><td style = \"text-align: right;\">0.0706319</td><td style = \"text-align: right;\">0.0</td><td style = \"text-align: right;\">0.0</td><td style = \"text-align: right;\">0</td><td style = \"text-align: right;\">0</td><td style = \"text-align: right;\">0</td><td style = \"text-align: right;\">0</td></tr><tr><td class = \"rowNumber\" style = \"font-weight: bold; text-align: right;\">9</td><td style = \"text-align: right;\">0.102564</td><td style = \"text-align: right;\">0.0376875</td><td style = \"text-align: right;\">0.25</td><td style = \"text-align: right;\">0.0</td><td style = \"text-align: right;\">0</td><td style = \"text-align: right;\">0</td><td style = \"text-align: right;\">0</td><td style = \"text-align: right;\">0</td></tr><tr><td class = \"rowNumber\" style = \"font-weight: bold; text-align: right;\">10</td><td style = \"text-align: right;\">0.641026</td><td style = \"text-align: right;\">0.0343906</td><td style = \"text-align: right;\">0.0</td><td style = \"text-align: right;\">0.0</td><td style = \"text-align: right;\">0</td><td style = \"text-align: right;\">0</td><td style = \"text-align: right;\">1</td><td style = \"text-align: right;\">0</td></tr><tr><td class = \"rowNumber\" style = \"font-weight: bold; text-align: right;\">11</td><td style = \"text-align: right;\">0.512821</td><td style = \"text-align: right;\">0.187482</td><td style = \"text-align: right;\">0.0</td><td style = \"text-align: right;\">0.0</td><td style = \"text-align: right;\">0</td><td style = \"text-align: right;\">1</td><td style = \"text-align: right;\">1</td><td style = \"text-align: right;\">1</td></tr><tr><td class = \"rowNumber\" style = \"font-weight: bold; text-align: right;\">12</td><td style = \"text-align: right;\">0.0</td><td style = \"text-align: right;\">0.175569</td><td style = \"text-align: right;\">0.166667</td><td style = \"text-align: right;\">1.0</td><td style = \"text-align: right;\">1</td><td style = \"text-align: right;\">0</td><td style = \"text-align: right;\">0</td><td style = \"text-align: right;\">0</td></tr><tr><td class = \"rowNumber\" style = \"font-weight: bold; text-align: right;\">13</td><td style = \"text-align: right;\">0.128205</td><td style = \"text-align: right;\">0.133395</td><td style = \"text-align: right;\">0.0833333</td><td style = \"text-align: right;\">1.0</td><td style = \"text-align: right;\">0</td><td style = \"text-align: right;\">0</td><td style = \"text-align: right;\">0</td><td style = \"text-align: right;\">0</td></tr><tr><td style = \"text-align: right;\">&vellip;</td><td style = \"text-align: right;\">&vellip;</td><td style = \"text-align: right;\">&vellip;</td><td style = \"text-align: right;\">&vellip;</td><td style = \"text-align: right;\">&vellip;</td><td style = \"text-align: right;\">&vellip;</td><td style = \"text-align: right;\">&vellip;</td><td style = \"text-align: right;\">&vellip;</td><td style = \"text-align: right;\">&vellip;</td></tr><tr><td class = \"rowNumber\" style = \"font-weight: bold; text-align: right;\">9904</td><td style = \"text-align: right;\">0.974359</td><td style = \"text-align: right;\">0.167333</td><td style = \"text-align: right;\">0.0</td><td style = \"text-align: right;\">0.0</td><td style = \"text-align: right;\">0</td><td style = \"text-align: right;\">0</td><td style = \"text-align: right;\">1</td><td style = \"text-align: right;\">1</td></tr><tr><td class = \"rowNumber\" style = \"font-weight: bold; text-align: right;\">9905</td><td style = \"text-align: right;\">0.179487</td><td style = \"text-align: right;\">0.213232</td><td style = \"text-align: right;\">0.166667</td><td style = \"text-align: right;\">1.0</td><td style = \"text-align: right;\">1</td><td style = \"text-align: right;\">0</td><td style = \"text-align: right;\">0</td><td style = \"text-align: right;\">1</td></tr><tr><td class = \"rowNumber\" style = \"font-weight: bold; text-align: right;\">9906</td><td style = \"text-align: right;\">0.0512821</td><td style = \"text-align: right;\">0.165323</td><td style = \"text-align: right;\">0.25</td><td style = \"text-align: right;\">1.0</td><td style = \"text-align: right;\">1</td><td style = \"text-align: right;\">0</td><td style = \"text-align: right;\">0</td><td style = \"text-align: right;\">0</td></tr><tr><td class = \"rowNumber\" style = \"font-weight: bold; text-align: right;\">9907</td><td style = \"text-align: right;\">0.435897</td><td style = \"text-align: right;\">0.078292</td><td style = \"text-align: right;\">0.0</td><td style = \"text-align: right;\">0.0</td><td style = \"text-align: right;\">0</td><td style = \"text-align: right;\">0</td><td style = \"text-align: right;\">0</td><td style = \"text-align: right;\">1</td></tr><tr><td class = \"rowNumber\" style = \"font-weight: bold; text-align: right;\">9908</td><td style = \"text-align: right;\">0.333333</td><td style = \"text-align: right;\">0.0804</td><td style = \"text-align: right;\">0.166667</td><td style = \"text-align: right;\">1.0</td><td style = \"text-align: right;\">0</td><td style = \"text-align: right;\">0</td><td style = \"text-align: right;\">0</td><td style = \"text-align: right;\">1</td></tr><tr><td class = \"rowNumber\" style = \"font-weight: bold; text-align: right;\">9909</td><td style = \"text-align: right;\">0.0769231</td><td style = \"text-align: right;\">0.141264</td><td style = \"text-align: right;\">0.0833333</td><td style = \"text-align: right;\">1.0</td><td style = \"text-align: right;\">1</td><td style = \"text-align: right;\">0</td><td style = \"text-align: right;\">0</td><td style = \"text-align: right;\">0</td></tr><tr><td class = \"rowNumber\" style = \"font-weight: bold; text-align: right;\">9910</td><td style = \"text-align: right;\">0.615385</td><td style = \"text-align: right;\">0.273176</td><td style = \"text-align: right;\">0.25</td><td style = \"text-align: right;\">1.0</td><td style = \"text-align: right;\">1</td><td style = \"text-align: right;\">0</td><td style = \"text-align: right;\">1</td><td style = \"text-align: right;\">1</td></tr><tr><td class = \"rowNumber\" style = \"font-weight: bold; text-align: right;\">9911</td><td style = \"text-align: right;\">0.230769</td><td style = \"text-align: right;\">0.0659869</td><td style = \"text-align: right;\">0.0</td><td style = \"text-align: right;\">0.0</td><td style = \"text-align: right;\">0</td><td style = \"text-align: right;\">1</td><td style = \"text-align: right;\">0</td><td style = \"text-align: right;\">0</td></tr><tr><td class = \"rowNumber\" style = \"font-weight: bold; text-align: right;\">9912</td><td style = \"text-align: right;\">0.205128</td><td style = \"text-align: right;\">0.170274</td><td style = \"text-align: right;\">0.166667</td><td style = \"text-align: right;\">1.0</td><td style = \"text-align: right;\">0</td><td style = \"text-align: right;\">1</td><td style = \"text-align: right;\">0</td><td style = \"text-align: right;\">1</td></tr><tr><td class = \"rowNumber\" style = \"font-weight: bold; text-align: right;\">9913</td><td style = \"text-align: right;\">0.230769</td><td style = \"text-align: right;\">0.266644</td><td style = \"text-align: right;\">0.25</td><td style = \"text-align: right;\">1.0</td><td style = \"text-align: right;\">1</td><td style = \"text-align: right;\">0</td><td style = \"text-align: right;\">0</td><td style = \"text-align: right;\">1</td></tr><tr><td class = \"rowNumber\" style = \"font-weight: bold; text-align: right;\">9914</td><td style = \"text-align: right;\">0.410256</td><td style = \"text-align: right;\">0.240391</td><td style = \"text-align: right;\">0.166667</td><td style = \"text-align: right;\">1.0</td><td style = \"text-align: right;\">1</td><td style = \"text-align: right;\">1</td><td style = \"text-align: right;\">0</td><td style = \"text-align: right;\">1</td></tr><tr><td class = \"rowNumber\" style = \"font-weight: bold; text-align: right;\">9915</td><td style = \"text-align: right;\">0.0769231</td><td style = \"text-align: right;\">0.117891</td><td style = \"text-align: right;\">0.25</td><td style = \"text-align: right;\">1.0</td><td style = \"text-align: right;\">1</td><td style = \"text-align: right;\">0</td><td style = \"text-align: right;\">0</td><td style = \"text-align: right;\">0</td></tr></tbody></table></div>"
      ],
      "text/latex": [
       "\\begin{tabular}{r|cccccccc}\n",
       "\t& age & inc & fsize & marr & twoearn & db & pira & hown\\\\\n",
       "\t\\hline\n",
       "\t& Float64 & Float64 & Float64 & Float64 & Int64 & Int64 & Int64 & Int64\\\\\n",
       "\t\\hline\n",
       "\t1 & 0.153846 & 0.125821 & 0.333333 & 1.0 & 0 & 0 & 0 & 1 \\\\\n",
       "\t2 & 0.692308 & 0.144156 & 0.333333 & 0.0 & 0 & 0 & 0 & 1 \\\\\n",
       "\t3 & 0.641026 & 0.224115 & 0.166667 & 1.0 & 1 & 0 & 1 & 1 \\\\\n",
       "\t4 & 0.0769231 & 0.195705 & 0.25 & 1.0 & 1 & 0 & 0 & 0 \\\\\n",
       "\t5 & 0.435897 & 0.146166 & 0.166667 & 0.0 & 0 & 1 & 0 & 1 \\\\\n",
       "\t6 & 0.615385 & 0.324836 & 0.416667 & 1.0 & 1 & 1 & 0 & 1 \\\\\n",
       "\t7 & 0.384615 & 0.245649 & 0.25 & 1.0 & 1 & 1 & 0 & 1 \\\\\n",
       "\t8 & 0.846154 & 0.0706319 & 0.0 & 0.0 & 0 & 0 & 0 & 0 \\\\\n",
       "\t9 & 0.102564 & 0.0376875 & 0.25 & 0.0 & 0 & 0 & 0 & 0 \\\\\n",
       "\t10 & 0.641026 & 0.0343906 & 0.0 & 0.0 & 0 & 0 & 1 & 0 \\\\\n",
       "\t11 & 0.512821 & 0.187482 & 0.0 & 0.0 & 0 & 1 & 1 & 1 \\\\\n",
       "\t12 & 0.0 & 0.175569 & 0.166667 & 1.0 & 1 & 0 & 0 & 0 \\\\\n",
       "\t13 & 0.128205 & 0.133395 & 0.0833333 & 1.0 & 0 & 0 & 0 & 0 \\\\\n",
       "\t14 & 0.0512821 & 0.050103 & 0.0 & 0.0 & 0 & 0 & 0 & 0 \\\\\n",
       "\t15 & 0.435897 & 0.358442 & 0.25 & 1.0 & 1 & 0 & 1 & 1 \\\\\n",
       "\t16 & 0.25641 & 0.142416 & 0.0833333 & 1.0 & 1 & 0 & 0 & 0 \\\\\n",
       "\t17 & 0.25641 & 0.270357 & 0.0 & 0.0 & 0 & 0 & 1 & 0 \\\\\n",
       "\t18 & 0.410256 & 0.141141 & 0.333333 & 1.0 & 0 & 0 & 0 & 0 \\\\\n",
       "\t19 & 0.717949 & 0.0506422 & 0.0 & 1.0 & 0 & 0 & 0 & 0 \\\\\n",
       "\t20 & 0.948718 & 0.315558 & 0.166667 & 1.0 & 0 & 1 & 0 & 1 \\\\\n",
       "\t21 & 0.512821 & 0.166683 & 0.0 & 0.0 & 0 & 0 & 0 & 0 \\\\\n",
       "\t22 & 0.794872 & 0.077385 & 0.0 & 0.0 & 0 & 0 & 0 & 0 \\\\\n",
       "\t23 & 0.153846 & 0.0571625 & 0.0 & 0.0 & 0 & 0 & 0 & 0 \\\\\n",
       "\t24 & 0.153846 & 0.117769 & 0.333333 & 1.0 & 1 & 0 & 0 & 0 \\\\\n",
       "\t$\\dots$ & $\\dots$ & $\\dots$ & $\\dots$ & $\\dots$ & $\\dots$ & $\\dots$ & $\\dots$ & $\\dots$ \\\\\n",
       "\\end{tabular}\n"
      ],
      "text/plain": [
       "\u001b[1m9915×8 DataFrame\u001b[0m\n",
       "\u001b[1m  Row \u001b[0m│\u001b[1m age       \u001b[0m\u001b[1m inc       \u001b[0m\u001b[1m fsize     \u001b[0m\u001b[1m marr    \u001b[0m\u001b[1m twoearn \u001b[0m\u001b[1m db    \u001b[0m\u001b[1m pira  \u001b[0m\u001b[1m hown \u001b[0m ⋯\n",
       "      │\u001b[90m Float64   \u001b[0m\u001b[90m Float64   \u001b[0m\u001b[90m Float64   \u001b[0m\u001b[90m Float64 \u001b[0m\u001b[90m Int64   \u001b[0m\u001b[90m Int64 \u001b[0m\u001b[90m Int64 \u001b[0m\u001b[90m Int64\u001b[0m ⋯\n",
       "──────┼─────────────────────────────────────────────────────────────────────────\n",
       "    1 │ 0.153846   0.125821   0.333333       1.0        0      0      0      1 ⋯\n",
       "    2 │ 0.692308   0.144156   0.333333       0.0        0      0      0      1\n",
       "    3 │ 0.641026   0.224115   0.166667       1.0        1      0      1      1\n",
       "    4 │ 0.0769231  0.195705   0.25           1.0        1      0      0      0\n",
       "    5 │ 0.435897   0.146166   0.166667       0.0        0      1      0      1 ⋯\n",
       "    6 │ 0.615385   0.324836   0.416667       1.0        1      1      0      1\n",
       "    7 │ 0.384615   0.245649   0.25           1.0        1      1      0      1\n",
       "    8 │ 0.846154   0.0706319  0.0            0.0        0      0      0      0\n",
       "  ⋮   │     ⋮          ⋮          ⋮         ⋮        ⋮       ⋮      ⋮      ⋮   ⋱\n",
       " 9909 │ 0.0769231  0.141264   0.0833333      1.0        1      0      0      0 ⋯\n",
       " 9910 │ 0.615385   0.273176   0.25           1.0        1      0      1      1\n",
       " 9911 │ 0.230769   0.0659869  0.0            0.0        0      1      0      0\n",
       " 9912 │ 0.205128   0.170274   0.166667       1.0        0      1      0      1\n",
       " 9913 │ 0.230769   0.266644   0.25           1.0        1      0      0      1 ⋯\n",
       " 9914 │ 0.410256   0.240391   0.166667       1.0        1      1      0      1\n",
       " 9915 │ 0.0769231  0.117891   0.25           1.0        1      0      0      0\n",
       "\u001b[36m                                                              9900 rows omitted\u001b[0m"
      ]
     },
     "metadata": {},
     "output_type": "display_data"
    }
   ],
   "source": [
    "covariates.inc = (covariates.inc .- minimum(covariates.inc))/(maximum(covariates.inc) - minimum(covariates.inc))\n",
    "covariates.age = (covariates.age .- minimum(covariates.age))/(maximum(covariates.age) - minimum(covariates.age))\n",
    "covariates.fsize = (covariates.fsize .- minimum(covariates.fsize))/(maximum(covariates.fsize) - minimum(covariates.fsize))\n",
    "covariates.marr = (covariates.marr .- minimum(covariates.marr))/(maximum(covariates.marr) - minimum(covariates.marr))\n",
    "covariates"
   ]
  },
  {
   "cell_type": "code",
   "execution_count": 4,
   "metadata": {},
   "outputs": [
    {
     "data": {
      "text/plain": [
       "DoubleMachineLearning([0.15384615384615385 0.18468722423767037 … 0.0 0.0; 0.10256410256410256 0.2869031277576233 … 1.0 0.0; … ; 0.46153846153846156 0.6448671438376311 … 1.0 1.0; 0.48717948717948717 0.14913226786939895 … 0.0 1.0], [0.0, 0.0, 0.0, 0.0, 1.0, 1.0, 0.0, 0.0, 0.0, 0.0  …  0.0, 1.0, 0.0, 1.0, 1.0, 0.0, 0.0, 1.0, 1.0, 1.0], [-101436.0, 72450.0, 0.0, 12400.0, 11000.0, 162100.0, 0.0, -17039.0, 20000.0, 20200.0  …  47700.0, 61550.0, -4100.0, 20080.0, 765.0, 499.0, 5073.0, -5750.0, 87000.0, 24335.0], \"ATE\", false, \"regression\", CausalELM.swish, 9915, 50, 6, 24, NaN, 5)"
      ]
     },
     "metadata": {},
     "output_type": "display_data"
    }
   ],
   "source": [
    "dml = DoubleMachineLearning(covariates, treatment, outcome)"
   ]
  },
  {
   "cell_type": "code",
   "execution_count": 5,
   "metadata": {},
   "outputs": [
    {
     "data": {
      "text/plain": [
       "RLearner([0.48717948717948717 0.31428326306500637 … 0.0 1.0; 0.8974358974358975 0.12285518188057652 … 1.0 1.0; … ; 0.02564102564102564 0.08928571428571429 … 0.0 0.0; 0.6410256410256411 0.025884890675556427 … 0.0 0.0], [1.0, 0.0, 0.0, 0.0, 0.0, 0.0, 0.0, 1.0, 1.0, 0.0  …  1.0, 0.0, 0.0, 1.0, 0.0, 0.0, 1.0, 0.0, 0.0, 0.0], [4500.0, 26549.0, 12000.0, 35883.0, 52399.0, 0.0, -295.0, 19328.0, 20390.0, 0.0  …  10900.0, 32600.0, 36950.0, 63249.0, -10002.0, -1600.0, -6100.0, 1599.0, -3900.0, 8.0], \"CATE\", false, \"regression\", CausalELM.swish, 9915, 50, 6, 32, [NaN, NaN, NaN, NaN, NaN, NaN, NaN, NaN, NaN, NaN  …  NaN, NaN, NaN, NaN, NaN, NaN, NaN, NaN, NaN, NaN], 5)"
      ]
     },
     "metadata": {},
     "output_type": "display_data"
    }
   ],
   "source": [
    "r_learner = RLearner(covariates, treatment, outcome)"
   ]
  },
  {
   "cell_type": "code",
   "execution_count": 6,
   "metadata": {},
   "outputs": [
    {
     "data": {
      "text/plain": [
       "DoublyRobustLearner([0.7692307692307693 0.17686783017942936 … 1.0 1.0; 0.358974358974359 0.03952593391508971 … 0.0 0.0; … ; 0.5128205128205128 0.21873467987057554 … 0.0 0.0; 0.2564102564102564 0.11966859496029023 … 0.0 1.0], [1.0, 0.0, 0.0, 0.0, 0.0, 0.0, 1.0, 0.0, 0.0, 0.0  …  0.0, 1.0, 1.0, 0.0, 0.0, 0.0, 0.0, 0.0, 1.0, 0.0], [120097.0, 13.0, 0.0, 7300.0, 6399.0, -4400.0, 73800.0, 0.0, -1700.0, -1021.0  …  3300.0, 78656.0, -8000.0, 0.0, 1746.0, 145720.0, -150.0, -1000.0, 15815.0, -2430.0], \"CATE\", false, \"regression\", CausalELM.swish, 9915, 50, 6, 32, [NaN, NaN, NaN, NaN, NaN, NaN, NaN, NaN, NaN, NaN  …  NaN, NaN, NaN, NaN, NaN, NaN, NaN, NaN, NaN, NaN], 2)"
      ]
     },
     "metadata": {},
     "output_type": "display_data"
    }
   ],
   "source": [
    "dre = DoublyRobustLearner(covariates, treatment, outcome)"
   ]
  },
  {
   "cell_type": "code",
   "execution_count": 7,
   "metadata": {},
   "outputs": [
    {
     "data": {
      "text/plain": [
       "8759.474734449188"
      ]
     },
     "metadata": {},
     "output_type": "display_data"
    }
   ],
   "source": [
    "estimate_causal_effect!(dml)"
   ]
  },
  {
   "cell_type": "code",
   "execution_count": 9,
   "metadata": {},
   "outputs": [
    {
     "data": {
      "text/plain": [
       "9915-element Vector{Float64}:\n",
       "  24755.785338865426\n",
       "  68197.07184295838\n",
       "  92849.42080534843\n",
       "  32105.11108685571\n",
       "  25500.01930162667\n",
       "  -6418.974724219135\n",
       "  17429.003461237742\n",
       "  26258.63116963979\n",
       "  -3068.111940954936\n",
       "   4760.359076011844\n",
       "      ⋮\n",
       "  17102.897091206243\n",
       "   3734.3184805060528\n",
       " 243555.138005544\n",
       " 125092.59572298202\n",
       "   -994.2317041595583\n",
       "  -2483.5916206124098\n",
       "   2148.7893083038316\n",
       " -10414.71356261897\n",
       "  -7195.4730704263775"
      ]
     },
     "metadata": {},
     "output_type": "display_data"
    }
   ],
   "source": [
    "estimate_causal_effect!(r_learner)"
   ]
  },
  {
   "cell_type": "code",
   "execution_count": 11,
   "metadata": {},
   "outputs": [
    {
     "data": {
      "text/plain": [
       "9915-element Vector{Float64}:\n",
       " 13198.079605028575\n",
       "  1407.4678722103322\n",
       "  1080.9705073445443\n",
       " -3171.7269008753524\n",
       "  -764.1459932436837\n",
       " 10530.477160154649\n",
       " 45633.87477163151\n",
       "  1381.9909447433733\n",
       "  1900.9017215717163\n",
       " 14388.211293805694\n",
       "     ⋮\n",
       "  5109.724375978067\n",
       "  6446.592444230741\n",
       "  7539.114659459059\n",
       "  8812.653576412042\n",
       " 12889.00479522849\n",
       "  1118.3998975855652\n",
       "  1942.3574441823084\n",
       " 16711.797656490606\n",
       "  7627.517636784663"
      ]
     },
     "metadata": {},
     "output_type": "display_data"
    }
   ],
   "source": [
    "estimate_causal_effect!(dre)"
   ]
  },
  {
   "cell_type": "code",
   "execution_count": 12,
   "metadata": {},
   "outputs": [
    {
     "data": {
      "text/plain": [
       "Dict{Any, Any} with 11 entries:\n",
       "  \"Activation Function\"    => swish\n",
       "  \"Quantity of Interest\"   => \"ATE\"\n",
       "  \"Sample Size\"            => 9915\n",
       "  \"Number of Machines\"     => 50\n",
       "  \"Causal Effect\"          => 8759.47\n",
       "  \"Number of Neurons\"      => 24\n",
       "  \"Task\"                   => \"regression\"\n",
       "  \"Time Series/Panel Data\" => false\n",
       "  \"Standard Error\"         => NaN\n",
       "  \"p-value\"                => NaN\n",
       "  \"Number of Features\"     => 6"
      ]
     },
     "metadata": {},
     "output_type": "display_data"
    }
   ],
   "source": [
    "summarize(dml)"
   ]
  },
  {
   "cell_type": "code",
   "execution_count": 13,
   "metadata": {},
   "outputs": [
    {
     "data": {
      "text/plain": [
       "Dict{Any, Any} with 11 entries:\n",
       "  \"Activation Function\"    => swish\n",
       "  \"Quantity of Interest\"   => \"CATE\"\n",
       "  \"Sample Size\"            => 9915\n",
       "  \"Number of Machines\"     => 50\n",
       "  \"Causal Effect\"          => [24755.8, 68197.1, 92849.4, 32105.1, 25500.0, -64…\n",
       "  \"Number of Neurons\"      => 32\n",
       "  \"Task\"                   => \"regression\"\n",
       "  \"Time Series/Panel Data\" => false\n",
       "  \"Standard Error\"         => NaN\n",
       "  \"p-value\"                => NaN\n",
       "  \"Number of Features\"     => 6"
      ]
     },
     "metadata": {},
     "output_type": "display_data"
    }
   ],
   "source": [
    "summarize(r_learner)"
   ]
  },
  {
   "cell_type": "code",
   "execution_count": 14,
   "metadata": {},
   "outputs": [
    {
     "data": {
      "text/plain": [
       "Dict{Any, Any} with 11 entries:\n",
       "  \"Activation Function\"    => swish\n",
       "  \"Quantity of Interest\"   => \"CATE\"\n",
       "  \"Sample Size\"            => 9915\n",
       "  \"Number of Machines\"     => 50\n",
       "  \"Causal Effect\"          => [13198.1, 1407.47, 1080.97, -3171.73, -764.146, 1…\n",
       "  \"Number of Neurons\"      => 32\n",
       "  \"Task\"                   => \"regression\"\n",
       "  \"Time Series/Panel Data\" => false\n",
       "  \"Standard Error\"         => NaN\n",
       "  \"p-value\"                => NaN\n",
       "  \"Number of Features\"     => 6"
      ]
     },
     "metadata": {},
     "output_type": "display_data"
    }
   ],
   "source": [
    "summarise(dre)"
   ]
  },
  {
   "cell_type": "code",
   "execution_count": 15,
   "metadata": {},
   "outputs": [
    {
     "data": {
      "text/plain": [
       "(Dict(\"0.1 Standard Deviations from Observed Outcomes\" => 8098.95082615164, \"0.075 Standard Deviations from Observed Outcomes\" => 7502.99909825876, \"0.025 Standard Deviations from Observed Outcomes\" => 8746.186015069896, \"0.05 Standard Deviations from Observed Outcomes\" => 8682.688086232247), 2.6466389357103424, Matrix{Float64}(undef, 0, 9))"
      ]
     },
     "metadata": {},
     "output_type": "display_data"
    }
   ],
   "source": [
    "validate(dml)"
   ]
  },
  {
   "cell_type": "code",
   "execution_count": 16,
   "metadata": {},
   "outputs": [
    {
     "data": {
      "text/plain": [
       "(Dict(\"0.1 Standard Deviations from Observed Outcomes\" => 77140.51741970167, \"0.075 Standard Deviations from Observed Outcomes\" => 23897.06455463217, \"0.025 Standard Deviations from Observed Outcomes\" => 23530.122112104997, \"0.05 Standard Deviations from Observed Outcomes\" => 23676.120658302345), 2.6158189826937086, Matrix{Float64}(undef, 0, 9))"
      ]
     },
     "metadata": {},
     "output_type": "display_data"
    }
   ],
   "source": [
    "validate(r_learner)"
   ]
  },
  {
   "cell_type": "code",
   "execution_count": 17,
   "metadata": {},
   "outputs": [
    {
     "data": {
      "text/plain": [
       "(Dict(\"0.1 Standard Deviations from Observed Outcomes\" => 8162.367832397463, \"0.075 Standard Deviations from Observed Outcomes\" => 5515.914028578847, \"0.025 Standard Deviations from Observed Outcomes\" => 8190.3094079227085, \"0.05 Standard Deviations from Observed Outcomes\" => 8242.728308790338), 2.6325661236588545, Matrix{Float64}(undef, 0, 9))"
      ]
     },
     "metadata": {},
     "output_type": "display_data"
    }
   ],
   "source": [
    "validate(dre)"
   ]
  }
 ],
 "metadata": {
  "kernelspec": {
   "display_name": "Julia 1.8.5",
   "language": "julia",
   "name": "julia-1.8"
  },
  "language_info": {
   "file_extension": ".jl",
   "mimetype": "application/julia",
   "name": "julia",
   "version": "1.8.5"
  }
 },
 "nbformat": 4,
 "nbformat_minor": 2
}
